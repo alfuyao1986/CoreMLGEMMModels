{
 "cells": [
  {
   "cell_type": "code",
   "execution_count": 13,
   "id": "8a132737-06d6-4c65-8a86-bd3447f05542",
   "metadata": {},
   "outputs": [],
   "source": [
    "import torch\n",
    "import numpy as np\n",
    "import time\n",
    "import argparse\n",
    "import torch.nn as nn\n",
    "import coremltools as ct\n",
    "from coremltools.models.neural_network import quantization_utils\n",
    "import os"
   ]
  },
  {
   "cell_type": "code",
   "execution_count": 14,
   "id": "4204892c-cd3f-423b-b210-6068f7e6971d",
   "metadata": {},
   "outputs": [],
   "source": [
    "def create_mlp(D,N,NumLayers) :\n",
    "    layers = nn.ModuleList()\n",
    "    for i in range(NumLayers):\n",
    "        layers.append(nn.Linear(D, N, bias=False))\n",
    "    return torch.nn.Sequential(*layers)\n",
    "\n",
    "def init_weights(m):\n",
    "    if isinstance(m, nn.Linear):\n",
    "        torch.nn.init.xavier_normal_(m.weight)\n",
    "\n",
    "class GenerateModelError (Exception):\n",
    "    pass"
   ]
  },
  {
   "cell_type": "code",
   "execution_count": 28,
   "id": "08b6c93d-2a31-44f5-aba3-7b78ac0386ec",
   "metadata": {},
   "outputs": [],
   "source": [
    "def generate_mlmodels(M, N, batch, Layers):\n",
    "\n",
    "    filename1 = str(M)+\"x\"+str(N)+\"x\"+str(Layers)+\"x\"+str(batch)+\"_FP16.mlmodel\"\n",
    "    filename2 = str(M)+\"x\"+str(N)+\"x\"+str(Layers)+\"x\"+str(batch)+\"_INT8LUT.mlmodel\"\n",
    "    if os.path.exists(filename1) and os.path.exists(filename2):\n",
    "        return\n",
    "    \n",
    "    model = create_mlp(M,N,Layers)\n",
    "    model.apply(init_weights)\n",
    "    model.eval()\n",
    "\n",
    "    with torch.no_grad():\n",
    "        x = torch.randn(batch,M)\n",
    "        output = model(x)\n",
    "\n",
    "    traced_model = torch.jit.trace(model, x)\n",
    "    try:\n",
    "        apple_model = ct.convert(traced_model, inputs=[ct.TensorType(name=\"input\", shape = (batch,M) )])\n",
    "        #filename = str(M)+\"x\"+str(N)+\"x\"+str(Layers)+\"x\"+str(batch)+\".mlmodel\"\n",
    "        #apple_model.save(filename)\n",
    "    except:\n",
    "        raise GenerateModelError\n",
    "        return\n",
    "\n",
    "    try:\n",
    "        apple_model_FP16 = quantization_utils.quantize_weights(apple_model, nbits=16)\n",
    "    except:\n",
    "        raise GenerateModelError\n",
    "        return\n",
    "    filename = str(M)+\"x\"+str(N)+\"x\"+str(Layers)+\"x\"+str(batch)+\"_FP16.mlmodel\"\n",
    "    apple_model_FP16.save(filename)\n",
    "\n",
    "    try:\n",
    "        apple_model_INT8LUT = quantization_utils.quantize_weights(apple_model, nbits=8, quantization_mode=\"kmeans\")\n",
    "    except:\n",
    "        raise GenerateModelError\n",
    "        return\n",
    "    filename = str(M)+\"x\"+str(N)+\"x\"+str(Layers)+\"x\"+str(batch)+\"_INT8LUT.mlmodel\"\n",
    "    apple_model_INT8LUT.save(filename)"
   ]
  },
  {
   "cell_type": "code",
   "execution_count": null,
   "id": "7aacda82-8a12-4447-b132-0417ddcc076d",
   "metadata": {},
   "outputs": [
    {
     "name": "stderr",
     "output_type": "stream",
     "text": [
      "Converting PyTorch Frontend ==> MIL Ops:  50%|▌| 1/2 [00:00<00:00, 1760.83 ops/s\n",
      "Running MIL frontend_pytorch pipeline: 100%|█| 5/5 [00:00<00:00, 35787.58 passes\n",
      "Running MIL default pipeline:   0%|                 | 0/56 [00:00<?, ? passes/s]/Users/yaof/anaconda3/envs/CoreML/lib/python3.10/site-packages/coremltools/converters/mil/mil/passes/defs/preprocess.py:262: UserWarning: Output, '5', of the source model, has been renamed to 'var_5' in the Core ML model.\n",
      "  warnings.warn(msg.format(var.name, new_name))\n",
      "Running MIL default pipeline: 100%|██████| 56/56 [00:00<00:00, 9914.78 passes/s]\n",
      "Running MIL backend_neuralnetwork pipeline: 100%|█| 8/8 [00:00<00:00, 70789.94 p\n",
      "Translating MIL ==> NeuralNetwork Ops: 100%|████| 3/3 [00:00<00:00, 86.11 ops/s]\n"
     ]
    },
    {
     "name": "stdout",
     "output_type": "stream",
     "text": [
      "Quantizing using linear quantization\n",
      "Quantizing layer 5 of type innerProduct\n",
      "Quantizing using kmeans quantization\n",
      "Optimizing Neural Network before Quantization:\n",
      "Finished optimizing network. Quantizing neural network..\n",
      "Quantizing layer 5 of type innerProduct\n"
     ]
    },
    {
     "name": "stderr",
     "output_type": "stream",
     "text": [
      "/Users/yaof/anaconda3/envs/CoreML/lib/python3.10/site-packages/coremltools/models/neural_network/quantization_utils.py:390: ConvergenceWarning: Number of distinct clusters (1) found smaller than n_clusters (256). Possibly due to duplicate points in X.\n",
      "  ).fit(wf)\n",
      "Converting PyTorch Frontend ==> MIL Ops:  50%|▌| 1/2 [00:00<00:00, 1110.78 ops/s\n",
      "Running MIL frontend_pytorch pipeline: 100%|█| 5/5 [00:00<00:00, 49461.13 passes\n",
      "Running MIL default pipeline:   0%|                 | 0/56 [00:00<?, ? passes/s]/Users/yaof/anaconda3/envs/CoreML/lib/python3.10/site-packages/coremltools/converters/mil/mil/passes/defs/preprocess.py:262: UserWarning: Output, '5', of the source model, has been renamed to 'var_5' in the Core ML model.\n",
      "  warnings.warn(msg.format(var.name, new_name))\n",
      "Running MIL default pipeline: 100%|██████| 56/56 [00:00<00:00, 9408.79 passes/s]\n",
      "Running MIL backend_neuralnetwork pipeline: 100%|█| 8/8 [00:00<00:00, 65027.97 p\n",
      "Translating MIL ==> NeuralNetwork Ops: 100%|████| 3/3 [00:00<00:00, 20.68 ops/s]\n"
     ]
    },
    {
     "name": "stdout",
     "output_type": "stream",
     "text": [
      "Quantizing using linear quantization\n",
      "Quantizing layer 5 of type innerProduct\n",
      "Quantizing using kmeans quantization\n",
      "Optimizing Neural Network before Quantization:\n",
      "Finished optimizing network. Quantizing neural network..\n",
      "Quantizing layer 5 of type innerProduct\n"
     ]
    },
    {
     "name": "stderr",
     "output_type": "stream",
     "text": [
      "/Users/yaof/anaconda3/envs/CoreML/lib/python3.10/site-packages/coremltools/models/neural_network/quantization_utils.py:390: ConvergenceWarning: Number of distinct clusters (1) found smaller than n_clusters (256). Possibly due to duplicate points in X.\n",
      "  ).fit(wf)\n",
      "Converting PyTorch Frontend ==> MIL Ops:  50%|▌| 1/2 [00:00<00:00, 373.29 ops/s]\n",
      "Running MIL frontend_pytorch pipeline: 100%|█| 5/5 [00:00<00:00, 37650.84 passes\n",
      "Running MIL default pipeline:   0%|                 | 0/56 [00:00<?, ? passes/s]/Users/yaof/anaconda3/envs/CoreML/lib/python3.10/site-packages/coremltools/converters/mil/mil/passes/defs/preprocess.py:262: UserWarning: Output, '5', of the source model, has been renamed to 'var_5' in the Core ML model.\n",
      "  warnings.warn(msg.format(var.name, new_name))\n",
      "Running MIL default pipeline: 100%|██████| 56/56 [00:00<00:00, 5852.86 passes/s]\n",
      "Running MIL backend_neuralnetwork pipeline: 100%|█| 8/8 [00:00<00:00, 28173.33 p\n",
      "Translating MIL ==> NeuralNetwork Ops: 100%|████| 3/3 [00:00<00:00,  5.57 ops/s]\n"
     ]
    },
    {
     "name": "stdout",
     "output_type": "stream",
     "text": [
      "Quantizing using linear quantization\n",
      "Quantizing layer 5 of type innerProduct\n",
      "Quantizing using kmeans quantization\n",
      "Optimizing Neural Network before Quantization:\n",
      "Finished optimizing network. Quantizing neural network..\n",
      "Quantizing layer 5 of type innerProduct\n"
     ]
    },
    {
     "name": "stderr",
     "output_type": "stream",
     "text": [
      "/Users/yaof/anaconda3/envs/CoreML/lib/python3.10/site-packages/coremltools/models/neural_network/quantization_utils.py:390: ConvergenceWarning: Number of distinct clusters (1) found smaller than n_clusters (256). Possibly due to duplicate points in X.\n",
      "  ).fit(wf)\n",
      "Converting PyTorch Frontend ==> MIL Ops:  50%|▌| 1/2 [00:00<00:00, 394.46 ops/s]\n",
      "Running MIL frontend_pytorch pipeline: 100%|█| 5/5 [00:00<00:00, 56223.91 passes\n",
      "Running MIL default pipeline:   0%|                 | 0/56 [00:00<?, ? passes/s]/Users/yaof/anaconda3/envs/CoreML/lib/python3.10/site-packages/coremltools/converters/mil/mil/passes/defs/preprocess.py:262: UserWarning: Output, '5', of the source model, has been renamed to 'var_5' in the Core ML model.\n",
      "  warnings.warn(msg.format(var.name, new_name))\n",
      "Running MIL default pipeline: 100%|██████| 56/56 [00:00<00:00, 4127.02 passes/s]\n",
      "Running MIL backend_neuralnetwork pipeline: 100%|█| 8/8 [00:00<00:00, 28581.29 p\n",
      "Translating MIL ==> NeuralNetwork Ops: 100%|████| 3/3 [00:02<00:00,  1.42 ops/s]\n"
     ]
    },
    {
     "name": "stdout",
     "output_type": "stream",
     "text": [
      "Quantizing using linear quantization\n",
      "Quantizing layer 5 of type innerProduct\n",
      "Quantizing using kmeans quantization\n",
      "Optimizing Neural Network before Quantization:\n",
      "Finished optimizing network. Quantizing neural network..\n",
      "Quantizing layer 5 of type innerProduct\n"
     ]
    },
    {
     "name": "stderr",
     "output_type": "stream",
     "text": [
      "/Users/yaof/anaconda3/envs/CoreML/lib/python3.10/site-packages/coremltools/models/neural_network/quantization_utils.py:390: ConvergenceWarning: Number of distinct clusters (1) found smaller than n_clusters (256). Possibly due to duplicate points in X.\n",
      "  ).fit(wf)\n",
      "Converting PyTorch Frontend ==> MIL Ops:  50%|▌| 1/2 [00:00<00:00, 207.94 ops/s]\n",
      "Running MIL frontend_pytorch pipeline: 100%|█| 5/5 [00:00<00:00, 57456.22 passes\n",
      "Running MIL default pipeline:   0%|                 | 0/56 [00:00<?, ? passes/s]/Users/yaof/anaconda3/envs/CoreML/lib/python3.10/site-packages/coremltools/converters/mil/mil/passes/defs/preprocess.py:262: UserWarning: Output, '5', of the source model, has been renamed to 'var_5' in the Core ML model.\n",
      "  warnings.warn(msg.format(var.name, new_name))\n",
      "Running MIL default pipeline: 100%|██████| 56/56 [00:00<00:00, 2636.30 passes/s]\n",
      "Running MIL backend_neuralnetwork pipeline: 100%|█| 8/8 [00:00<00:00, 60025.82 p\n",
      "Translating MIL ==> NeuralNetwork Ops: 100%|████| 3/3 [00:08<00:00,  2.84s/ ops]\n"
     ]
    },
    {
     "name": "stdout",
     "output_type": "stream",
     "text": [
      "Quantizing using linear quantization\n",
      "Quantizing layer 5 of type innerProduct\n",
      "Quantizing using kmeans quantization\n",
      "Optimizing Neural Network before Quantization:\n",
      "Finished optimizing network. Quantizing neural network..\n",
      "Quantizing layer 5 of type innerProduct\n"
     ]
    },
    {
     "name": "stderr",
     "output_type": "stream",
     "text": [
      "/Users/yaof/anaconda3/envs/CoreML/lib/python3.10/site-packages/coremltools/models/neural_network/quantization_utils.py:390: ConvergenceWarning: Number of distinct clusters (1) found smaller than n_clusters (256). Possibly due to duplicate points in X.\n",
      "  ).fit(wf)\n",
      "Converting PyTorch Frontend ==> MIL Ops:  98%|▉| 63/64 [00:00<00:00, 445.91 ops/\n",
      "Running MIL frontend_pytorch pipeline: 100%|█| 5/5 [00:00<00:00, 7135.60 passes/\n",
      "Running MIL default pipeline:   0%|                 | 0/56 [00:00<?, ? passes/s]/Users/yaof/anaconda3/envs/CoreML/lib/python3.10/site-packages/coremltools/converters/mil/mil/passes/defs/preprocess.py:262: UserWarning: Output, '129', of the source model, has been renamed to 'var_129' in the Core ML model.\n",
      "  warnings.warn(msg.format(var.name, new_name))\n",
      "Running MIL default pipeline: 100%|███████| 56/56 [00:00<00:00, 108.32 passes/s]\n",
      "Running MIL backend_neuralnetwork pipeline: 100%|█| 8/8 [00:00<00:00, 10362.70 p\n",
      "Translating MIL ==> NeuralNetwork Ops: 100%|██| 96/96 [04:44<00:00,  2.96s/ ops]\n"
     ]
    }
   ],
   "source": [
    "for i in range(7):\n",
    "    M = 256*2**(i)\n",
    "    N = M\n",
    "    for l in range(5):\n",
    "        if l ==0:\n",
    "            layers = 1\n",
    "        else:\n",
    "            layers = 8*l\n",
    "        try:\n",
    "            generate_mlmodels(M,N,1,layers)\n",
    "        except GenerateModelError:\n",
    "            print(\"Model with dimension \", M, \"x\", N, \" with\", layers, \" layers not created\")\n",
    "            pass\n"
   ]
  },
  {
   "cell_type": "code",
   "execution_count": null,
   "id": "3e198c0a-6814-41ea-b618-4100501f596a",
   "metadata": {},
   "outputs": [],
   "source": []
  }
 ],
 "metadata": {
  "kernelspec": {
   "display_name": "Python 3 (ipykernel)",
   "language": "python",
   "name": "python3"
  },
  "language_info": {
   "codemirror_mode": {
    "name": "ipython",
    "version": 3
   },
   "file_extension": ".py",
   "mimetype": "text/x-python",
   "name": "python",
   "nbconvert_exporter": "python",
   "pygments_lexer": "ipython3",
   "version": "3.10.12"
  }
 },
 "nbformat": 4,
 "nbformat_minor": 5
}
