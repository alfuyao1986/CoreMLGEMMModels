{
 "cells": [
  {
   "cell_type": "code",
   "execution_count": 1,
   "id": "8a132737-06d6-4c65-8a86-bd3447f05542",
   "metadata": {},
   "outputs": [],
   "source": [
    "import torch\n",
    "import numpy as np\n",
    "import time\n",
    "import argparse\n",
    "import torch.nn as nn\n",
    "import coremltools as ct\n",
    "from coremltools.models.neural_network import quantization_utils"
   ]
  },
  {
   "cell_type": "code",
   "execution_count": 2,
   "id": "4204892c-cd3f-423b-b210-6068f7e6971d",
   "metadata": {},
   "outputs": [],
   "source": [
    "def create_mlp(D,N,NumLayers) :\n",
    "    layers = nn.ModuleList()\n",
    "    for i in range(NumLayers):\n",
    "        layers.append(nn.Linear(D, N, bias=False))\n",
    "    return torch.nn.Sequential(*layers)\n",
    "\n",
    "def init_weights(m):\n",
    "    if isinstance(m, nn.Linear):\n",
    "        torch.nn.init.xavier_normal_(m.weight)"
   ]
  },
  {
   "cell_type": "code",
   "execution_count": 3,
   "id": "08b6c93d-2a31-44f5-aba3-7b78ac0386ec",
   "metadata": {},
   "outputs": [],
   "source": [
    "def generate_mlmodels(M, N, batch, Layers):\n",
    "    model = create_mlp(M,N,Layers)\n",
    "    model.apply(init_weights)\n",
    "    model.eval()\n",
    "\n",
    "    with torch.no_grad():\n",
    "        x = torch.randn(batch,M)\n",
    "        output = model(x)\n",
    "\n",
    "    traced_model = torch.jit.trace(model, x)\n",
    "\n",
    "    apple_model = ct.convert(traced_model, inputs=[ct.TensorType(name=\"input\", shape = (batch,M) )])\n",
    "    #filename = str(M)+\"x\"+str(N)+\"x\"+str(Layers)+\"x\"+str(batch)+\".mlmodel\"\n",
    "    #apple_model.save(filename)\n",
    "                     \n",
    "    apple_model_FP16 = quantization_utils.quantize_weights(apple_model, nbits=16)\n",
    "    filename = str(M)+\"x\"+str(N)+\"x\"+str(Layers)+\"x\"+str(batch)+\"_FP16.mlmodel\"\n",
    "    apple_model_FP16.save(filename)\n",
    "    \n",
    "    apple_model_INT8LUT = quantization_utils.quantize_weights(apple_model, nbits=8, quantization_mode=\"kmeans\")\n",
    "    filename = str(M)+\"x\"+str(N)+\"x\"+str(Layers)+\"x\"+str(batch)+\"_INT8LUT.mlmodel\"\n",
    "    apple_model_INT8LUT.save(filename)"
   ]
  },
  {
   "cell_type": "code",
   "execution_count": null,
   "id": "7aacda82-8a12-4447-b132-0417ddcc076d",
   "metadata": {},
   "outputs": [
    {
     "name": "stderr",
     "output_type": "stream",
     "text": [
      "Converting PyTorch Frontend ==> MIL Ops:  94%|▉| 15/16 [00:00<00:00, 3468.28 ops\n",
      "Running MIL frontend_pytorch pipeline: 100%|█| 5/5 [00:00<00:00, 4414.13 passes/\n",
      "Running MIL default pipeline:   0%|                 | 0/56 [00:00<?, ? passes/s]/Users/yaof/anaconda3/envs/CoreML/lib/python3.10/site-packages/coremltools/converters/mil/mil/passes/defs/preprocess.py:262: UserWarning: Output, '33', of the source model, has been renamed to 'var_33' in the Core ML model.\n",
      "  warnings.warn(msg.format(var.name, new_name))\n",
      "Running MIL default pipeline: 100%|██████| 56/56 [00:00<00:00, 3479.77 passes/s]\n",
      "Running MIL backend_neuralnetwork pipeline: 100%|█| 8/8 [00:00<00:00, 25811.10 p\n",
      "Translating MIL ==> NeuralNetwork Ops: 100%|██| 24/24 [00:00<00:00, 87.67 ops/s]\n"
     ]
    },
    {
     "name": "stdout",
     "output_type": "stream",
     "text": [
      "Quantizing using linear quantization\n",
      "Quantizing layer input.3 of type innerProduct\n",
      "Quantizing layer input.5 of type innerProduct\n",
      "Quantizing layer input.7 of type innerProduct\n",
      "Quantizing layer input.9 of type innerProduct\n",
      "Quantizing layer input.11 of type innerProduct\n",
      "Quantizing layer input.13 of type innerProduct\n",
      "Quantizing layer input of type innerProduct\n",
      "Quantizing layer 33 of type innerProduct\n",
      "Quantizing using kmeans quantization\n",
      "Optimizing Neural Network before Quantization:\n",
      "Finished optimizing network. Quantizing neural network..\n",
      "Quantizing layer input.3 of type innerProduct\n"
     ]
    },
    {
     "name": "stderr",
     "output_type": "stream",
     "text": [
      "/Users/yaof/anaconda3/envs/CoreML/lib/python3.10/site-packages/coremltools/models/neural_network/quantization_utils.py:390: ConvergenceWarning: Number of distinct clusters (1) found smaller than n_clusters (256). Possibly due to duplicate points in X.\n",
      "  ).fit(wf)\n"
     ]
    },
    {
     "name": "stdout",
     "output_type": "stream",
     "text": [
      "Quantizing layer input.5 of type innerProduct\n"
     ]
    },
    {
     "name": "stderr",
     "output_type": "stream",
     "text": [
      "/Users/yaof/anaconda3/envs/CoreML/lib/python3.10/site-packages/coremltools/models/neural_network/quantization_utils.py:390: ConvergenceWarning: Number of distinct clusters (1) found smaller than n_clusters (256). Possibly due to duplicate points in X.\n",
      "  ).fit(wf)\n"
     ]
    },
    {
     "name": "stdout",
     "output_type": "stream",
     "text": [
      "Quantizing layer input.7 of type innerProduct\n"
     ]
    },
    {
     "name": "stderr",
     "output_type": "stream",
     "text": [
      "/Users/yaof/anaconda3/envs/CoreML/lib/python3.10/site-packages/coremltools/models/neural_network/quantization_utils.py:390: ConvergenceWarning: Number of distinct clusters (1) found smaller than n_clusters (256). Possibly due to duplicate points in X.\n",
      "  ).fit(wf)\n"
     ]
    },
    {
     "name": "stdout",
     "output_type": "stream",
     "text": [
      "Quantizing layer input.9 of type innerProduct\n"
     ]
    },
    {
     "name": "stderr",
     "output_type": "stream",
     "text": [
      "/Users/yaof/anaconda3/envs/CoreML/lib/python3.10/site-packages/coremltools/models/neural_network/quantization_utils.py:390: ConvergenceWarning: Number of distinct clusters (1) found smaller than n_clusters (256). Possibly due to duplicate points in X.\n",
      "  ).fit(wf)\n"
     ]
    },
    {
     "name": "stdout",
     "output_type": "stream",
     "text": [
      "Quantizing layer input.11 of type innerProduct\n"
     ]
    },
    {
     "name": "stderr",
     "output_type": "stream",
     "text": [
      "/Users/yaof/anaconda3/envs/CoreML/lib/python3.10/site-packages/coremltools/models/neural_network/quantization_utils.py:390: ConvergenceWarning: Number of distinct clusters (1) found smaller than n_clusters (256). Possibly due to duplicate points in X.\n",
      "  ).fit(wf)\n"
     ]
    },
    {
     "name": "stdout",
     "output_type": "stream",
     "text": [
      "Quantizing layer input.13 of type innerProduct\n"
     ]
    },
    {
     "name": "stderr",
     "output_type": "stream",
     "text": [
      "/Users/yaof/anaconda3/envs/CoreML/lib/python3.10/site-packages/coremltools/models/neural_network/quantization_utils.py:390: ConvergenceWarning: Number of distinct clusters (1) found smaller than n_clusters (256). Possibly due to duplicate points in X.\n",
      "  ).fit(wf)\n"
     ]
    },
    {
     "name": "stdout",
     "output_type": "stream",
     "text": [
      "Quantizing layer input of type innerProduct\n"
     ]
    },
    {
     "name": "stderr",
     "output_type": "stream",
     "text": [
      "/Users/yaof/anaconda3/envs/CoreML/lib/python3.10/site-packages/coremltools/models/neural_network/quantization_utils.py:390: ConvergenceWarning: Number of distinct clusters (1) found smaller than n_clusters (256). Possibly due to duplicate points in X.\n",
      "  ).fit(wf)\n"
     ]
    },
    {
     "name": "stdout",
     "output_type": "stream",
     "text": [
      "Quantizing layer 33 of type innerProduct\n"
     ]
    },
    {
     "name": "stderr",
     "output_type": "stream",
     "text": [
      "/Users/yaof/anaconda3/envs/CoreML/lib/python3.10/site-packages/coremltools/models/neural_network/quantization_utils.py:390: ConvergenceWarning: Number of distinct clusters (1) found smaller than n_clusters (256). Possibly due to duplicate points in X.\n",
      "  ).fit(wf)\n",
      "Converting PyTorch Frontend ==> MIL Ops:  97%|▉| 31/32 [00:00<00:00, 4327.91 ops\n",
      "Running MIL frontend_pytorch pipeline: 100%|█| 5/5 [00:00<00:00, 13189.64 passes\n",
      "Running MIL default pipeline:   0%|                 | 0/56 [00:00<?, ? passes/s]/Users/yaof/anaconda3/envs/CoreML/lib/python3.10/site-packages/coremltools/converters/mil/mil/passes/defs/preprocess.py:262: UserWarning: Output, '65', of the source model, has been renamed to 'var_65' in the Core ML model.\n",
      "  warnings.warn(msg.format(var.name, new_name))\n",
      "Running MIL default pipeline: 100%|██████| 56/56 [00:00<00:00, 2071.08 passes/s]\n",
      "Running MIL backend_neuralnetwork pipeline: 100%|█| 8/8 [00:00<00:00, 17467.17 p\n",
      "Translating MIL ==> NeuralNetwork Ops: 100%|██| 48/48 [00:00<00:00, 89.26 ops/s]\n"
     ]
    },
    {
     "name": "stdout",
     "output_type": "stream",
     "text": [
      "Quantizing using linear quantization\n",
      "Quantizing layer input.3 of type innerProduct\n",
      "Quantizing layer input.5 of type innerProduct\n",
      "Quantizing layer input.7 of type innerProduct\n",
      "Quantizing layer input.9 of type innerProduct\n",
      "Quantizing layer input.11 of type innerProduct\n",
      "Quantizing layer input.13 of type innerProduct\n",
      "Quantizing layer input.15 of type innerProduct\n",
      "Quantizing layer input.17 of type innerProduct\n",
      "Quantizing layer input.19 of type innerProduct\n",
      "Quantizing layer input.21 of type innerProduct\n",
      "Quantizing layer input.23 of type innerProduct\n",
      "Quantizing layer input.25 of type innerProduct\n",
      "Quantizing layer input.27 of type innerProduct\n",
      "Quantizing layer input.29 of type innerProduct\n",
      "Quantizing layer input of type innerProduct\n",
      "Quantizing layer 65 of type innerProduct\n",
      "Quantizing using kmeans quantization\n",
      "Optimizing Neural Network before Quantization:\n",
      "Finished optimizing network. Quantizing neural network..\n",
      "Quantizing layer input.3 of type innerProduct\n"
     ]
    },
    {
     "name": "stderr",
     "output_type": "stream",
     "text": [
      "/Users/yaof/anaconda3/envs/CoreML/lib/python3.10/site-packages/coremltools/models/neural_network/quantization_utils.py:390: ConvergenceWarning: Number of distinct clusters (1) found smaller than n_clusters (256). Possibly due to duplicate points in X.\n",
      "  ).fit(wf)\n"
     ]
    },
    {
     "name": "stdout",
     "output_type": "stream",
     "text": [
      "Quantizing layer input.5 of type innerProduct\n"
     ]
    },
    {
     "name": "stderr",
     "output_type": "stream",
     "text": [
      "/Users/yaof/anaconda3/envs/CoreML/lib/python3.10/site-packages/coremltools/models/neural_network/quantization_utils.py:390: ConvergenceWarning: Number of distinct clusters (1) found smaller than n_clusters (256). Possibly due to duplicate points in X.\n",
      "  ).fit(wf)\n"
     ]
    },
    {
     "name": "stdout",
     "output_type": "stream",
     "text": [
      "Quantizing layer input.7 of type innerProduct\n"
     ]
    },
    {
     "name": "stderr",
     "output_type": "stream",
     "text": [
      "/Users/yaof/anaconda3/envs/CoreML/lib/python3.10/site-packages/coremltools/models/neural_network/quantization_utils.py:390: ConvergenceWarning: Number of distinct clusters (1) found smaller than n_clusters (256). Possibly due to duplicate points in X.\n",
      "  ).fit(wf)\n"
     ]
    },
    {
     "name": "stdout",
     "output_type": "stream",
     "text": [
      "Quantizing layer input.9 of type innerProduct\n"
     ]
    },
    {
     "name": "stderr",
     "output_type": "stream",
     "text": [
      "/Users/yaof/anaconda3/envs/CoreML/lib/python3.10/site-packages/coremltools/models/neural_network/quantization_utils.py:390: ConvergenceWarning: Number of distinct clusters (1) found smaller than n_clusters (256). Possibly due to duplicate points in X.\n",
      "  ).fit(wf)\n"
     ]
    },
    {
     "name": "stdout",
     "output_type": "stream",
     "text": [
      "Quantizing layer input.11 of type innerProduct\n"
     ]
    },
    {
     "name": "stderr",
     "output_type": "stream",
     "text": [
      "/Users/yaof/anaconda3/envs/CoreML/lib/python3.10/site-packages/coremltools/models/neural_network/quantization_utils.py:390: ConvergenceWarning: Number of distinct clusters (1) found smaller than n_clusters (256). Possibly due to duplicate points in X.\n",
      "  ).fit(wf)\n"
     ]
    },
    {
     "name": "stdout",
     "output_type": "stream",
     "text": [
      "Quantizing layer input.13 of type innerProduct\n"
     ]
    },
    {
     "name": "stderr",
     "output_type": "stream",
     "text": [
      "/Users/yaof/anaconda3/envs/CoreML/lib/python3.10/site-packages/coremltools/models/neural_network/quantization_utils.py:390: ConvergenceWarning: Number of distinct clusters (1) found smaller than n_clusters (256). Possibly due to duplicate points in X.\n",
      "  ).fit(wf)\n"
     ]
    },
    {
     "name": "stdout",
     "output_type": "stream",
     "text": [
      "Quantizing layer input.15 of type innerProduct\n"
     ]
    },
    {
     "name": "stderr",
     "output_type": "stream",
     "text": [
      "/Users/yaof/anaconda3/envs/CoreML/lib/python3.10/site-packages/coremltools/models/neural_network/quantization_utils.py:390: ConvergenceWarning: Number of distinct clusters (1) found smaller than n_clusters (256). Possibly due to duplicate points in X.\n",
      "  ).fit(wf)\n"
     ]
    },
    {
     "name": "stdout",
     "output_type": "stream",
     "text": [
      "Quantizing layer input.17 of type innerProduct\n"
     ]
    },
    {
     "name": "stderr",
     "output_type": "stream",
     "text": [
      "/Users/yaof/anaconda3/envs/CoreML/lib/python3.10/site-packages/coremltools/models/neural_network/quantization_utils.py:390: ConvergenceWarning: Number of distinct clusters (1) found smaller than n_clusters (256). Possibly due to duplicate points in X.\n",
      "  ).fit(wf)\n"
     ]
    },
    {
     "name": "stdout",
     "output_type": "stream",
     "text": [
      "Quantizing layer input.19 of type innerProduct\n"
     ]
    },
    {
     "name": "stderr",
     "output_type": "stream",
     "text": [
      "/Users/yaof/anaconda3/envs/CoreML/lib/python3.10/site-packages/coremltools/models/neural_network/quantization_utils.py:390: ConvergenceWarning: Number of distinct clusters (1) found smaller than n_clusters (256). Possibly due to duplicate points in X.\n",
      "  ).fit(wf)\n"
     ]
    },
    {
     "name": "stdout",
     "output_type": "stream",
     "text": [
      "Quantizing layer input.21 of type innerProduct\n"
     ]
    },
    {
     "name": "stderr",
     "output_type": "stream",
     "text": [
      "/Users/yaof/anaconda3/envs/CoreML/lib/python3.10/site-packages/coremltools/models/neural_network/quantization_utils.py:390: ConvergenceWarning: Number of distinct clusters (1) found smaller than n_clusters (256). Possibly due to duplicate points in X.\n",
      "  ).fit(wf)\n"
     ]
    },
    {
     "name": "stdout",
     "output_type": "stream",
     "text": [
      "Quantizing layer input.23 of type innerProduct\n"
     ]
    },
    {
     "name": "stderr",
     "output_type": "stream",
     "text": [
      "/Users/yaof/anaconda3/envs/CoreML/lib/python3.10/site-packages/coremltools/models/neural_network/quantization_utils.py:390: ConvergenceWarning: Number of distinct clusters (1) found smaller than n_clusters (256). Possibly due to duplicate points in X.\n",
      "  ).fit(wf)\n"
     ]
    },
    {
     "name": "stdout",
     "output_type": "stream",
     "text": [
      "Quantizing layer input.25 of type innerProduct\n"
     ]
    },
    {
     "name": "stderr",
     "output_type": "stream",
     "text": [
      "/Users/yaof/anaconda3/envs/CoreML/lib/python3.10/site-packages/coremltools/models/neural_network/quantization_utils.py:390: ConvergenceWarning: Number of distinct clusters (1) found smaller than n_clusters (256). Possibly due to duplicate points in X.\n",
      "  ).fit(wf)\n"
     ]
    },
    {
     "name": "stdout",
     "output_type": "stream",
     "text": [
      "Quantizing layer input.27 of type innerProduct\n"
     ]
    },
    {
     "name": "stderr",
     "output_type": "stream",
     "text": [
      "/Users/yaof/anaconda3/envs/CoreML/lib/python3.10/site-packages/coremltools/models/neural_network/quantization_utils.py:390: ConvergenceWarning: Number of distinct clusters (1) found smaller than n_clusters (256). Possibly due to duplicate points in X.\n",
      "  ).fit(wf)\n"
     ]
    },
    {
     "name": "stdout",
     "output_type": "stream",
     "text": [
      "Quantizing layer input.29 of type innerProduct\n"
     ]
    },
    {
     "name": "stderr",
     "output_type": "stream",
     "text": [
      "/Users/yaof/anaconda3/envs/CoreML/lib/python3.10/site-packages/coremltools/models/neural_network/quantization_utils.py:390: ConvergenceWarning: Number of distinct clusters (1) found smaller than n_clusters (256). Possibly due to duplicate points in X.\n",
      "  ).fit(wf)\n"
     ]
    },
    {
     "name": "stdout",
     "output_type": "stream",
     "text": [
      "Quantizing layer input of type innerProduct\n"
     ]
    },
    {
     "name": "stderr",
     "output_type": "stream",
     "text": [
      "/Users/yaof/anaconda3/envs/CoreML/lib/python3.10/site-packages/coremltools/models/neural_network/quantization_utils.py:390: ConvergenceWarning: Number of distinct clusters (1) found smaller than n_clusters (256). Possibly due to duplicate points in X.\n",
      "  ).fit(wf)\n"
     ]
    },
    {
     "name": "stdout",
     "output_type": "stream",
     "text": [
      "Quantizing layer 65 of type innerProduct\n"
     ]
    },
    {
     "name": "stderr",
     "output_type": "stream",
     "text": [
      "/Users/yaof/anaconda3/envs/CoreML/lib/python3.10/site-packages/coremltools/models/neural_network/quantization_utils.py:390: ConvergenceWarning: Number of distinct clusters (1) found smaller than n_clusters (256). Possibly due to duplicate points in X.\n",
      "  ).fit(wf)\n",
      "Converting PyTorch Frontend ==> MIL Ops:  98%|▉| 47/48 [00:00<00:00, 4468.50 ops\n",
      "Running MIL frontend_pytorch pipeline: 100%|█| 5/5 [00:00<00:00, 9804.36 passes/\n",
      "Running MIL default pipeline:   0%|                 | 0/56 [00:00<?, ? passes/s]/Users/yaof/anaconda3/envs/CoreML/lib/python3.10/site-packages/coremltools/converters/mil/mil/passes/defs/preprocess.py:262: UserWarning: Output, '97', of the source model, has been renamed to 'var_97' in the Core ML model.\n",
      "  warnings.warn(msg.format(var.name, new_name))\n",
      "Running MIL default pipeline: 100%|██████| 56/56 [00:00<00:00, 1556.98 passes/s]\n",
      "Running MIL backend_neuralnetwork pipeline: 100%|█| 8/8 [00:00<00:00, 10768.43 p\n",
      "Translating MIL ==> NeuralNetwork Ops: 100%|██| 72/72 [00:00<00:00, 87.99 ops/s]\n"
     ]
    },
    {
     "name": "stdout",
     "output_type": "stream",
     "text": [
      "Quantizing using linear quantization\n",
      "Quantizing layer input.3 of type innerProduct\n",
      "Quantizing layer input.5 of type innerProduct\n",
      "Quantizing layer input.7 of type innerProduct\n",
      "Quantizing layer input.9 of type innerProduct\n",
      "Quantizing layer input.11 of type innerProduct\n",
      "Quantizing layer input.13 of type innerProduct\n",
      "Quantizing layer input.15 of type innerProduct\n",
      "Quantizing layer input.17 of type innerProduct\n",
      "Quantizing layer input.19 of type innerProduct\n",
      "Quantizing layer input.21 of type innerProduct\n",
      "Quantizing layer input.23 of type innerProduct\n",
      "Quantizing layer input.25 of type innerProduct\n",
      "Quantizing layer input.27 of type innerProduct\n",
      "Quantizing layer input.29 of type innerProduct\n",
      "Quantizing layer input.31 of type innerProduct\n",
      "Quantizing layer input.33 of type innerProduct\n",
      "Quantizing layer input.35 of type innerProduct\n",
      "Quantizing layer input.37 of type innerProduct\n",
      "Quantizing layer input.39 of type innerProduct\n",
      "Quantizing layer input.41 of type innerProduct\n",
      "Quantizing layer input.43 of type innerProduct\n",
      "Quantizing layer input.45 of type innerProduct\n",
      "Quantizing layer input of type innerProduct\n",
      "Quantizing layer 97 of type innerProduct\n",
      "Quantizing using kmeans quantization\n",
      "Optimizing Neural Network before Quantization:\n",
      "Finished optimizing network. Quantizing neural network..\n",
      "Quantizing layer input.3 of type innerProduct\n"
     ]
    },
    {
     "name": "stderr",
     "output_type": "stream",
     "text": [
      "/Users/yaof/anaconda3/envs/CoreML/lib/python3.10/site-packages/coremltools/models/neural_network/quantization_utils.py:390: ConvergenceWarning: Number of distinct clusters (1) found smaller than n_clusters (256). Possibly due to duplicate points in X.\n",
      "  ).fit(wf)\n"
     ]
    },
    {
     "name": "stdout",
     "output_type": "stream",
     "text": [
      "Quantizing layer input.5 of type innerProduct\n"
     ]
    },
    {
     "name": "stderr",
     "output_type": "stream",
     "text": [
      "/Users/yaof/anaconda3/envs/CoreML/lib/python3.10/site-packages/coremltools/models/neural_network/quantization_utils.py:390: ConvergenceWarning: Number of distinct clusters (1) found smaller than n_clusters (256). Possibly due to duplicate points in X.\n",
      "  ).fit(wf)\n"
     ]
    },
    {
     "name": "stdout",
     "output_type": "stream",
     "text": [
      "Quantizing layer input.7 of type innerProduct\n"
     ]
    },
    {
     "name": "stderr",
     "output_type": "stream",
     "text": [
      "/Users/yaof/anaconda3/envs/CoreML/lib/python3.10/site-packages/coremltools/models/neural_network/quantization_utils.py:390: ConvergenceWarning: Number of distinct clusters (1) found smaller than n_clusters (256). Possibly due to duplicate points in X.\n",
      "  ).fit(wf)\n"
     ]
    },
    {
     "name": "stdout",
     "output_type": "stream",
     "text": [
      "Quantizing layer input.9 of type innerProduct\n"
     ]
    },
    {
     "name": "stderr",
     "output_type": "stream",
     "text": [
      "/Users/yaof/anaconda3/envs/CoreML/lib/python3.10/site-packages/coremltools/models/neural_network/quantization_utils.py:390: ConvergenceWarning: Number of distinct clusters (1) found smaller than n_clusters (256). Possibly due to duplicate points in X.\n",
      "  ).fit(wf)\n"
     ]
    },
    {
     "name": "stdout",
     "output_type": "stream",
     "text": [
      "Quantizing layer input.11 of type innerProduct\n"
     ]
    },
    {
     "name": "stderr",
     "output_type": "stream",
     "text": [
      "/Users/yaof/anaconda3/envs/CoreML/lib/python3.10/site-packages/coremltools/models/neural_network/quantization_utils.py:390: ConvergenceWarning: Number of distinct clusters (1) found smaller than n_clusters (256). Possibly due to duplicate points in X.\n",
      "  ).fit(wf)\n"
     ]
    },
    {
     "name": "stdout",
     "output_type": "stream",
     "text": [
      "Quantizing layer input.13 of type innerProduct\n"
     ]
    },
    {
     "name": "stderr",
     "output_type": "stream",
     "text": [
      "/Users/yaof/anaconda3/envs/CoreML/lib/python3.10/site-packages/coremltools/models/neural_network/quantization_utils.py:390: ConvergenceWarning: Number of distinct clusters (1) found smaller than n_clusters (256). Possibly due to duplicate points in X.\n",
      "  ).fit(wf)\n"
     ]
    },
    {
     "name": "stdout",
     "output_type": "stream",
     "text": [
      "Quantizing layer input.15 of type innerProduct\n"
     ]
    },
    {
     "name": "stderr",
     "output_type": "stream",
     "text": [
      "/Users/yaof/anaconda3/envs/CoreML/lib/python3.10/site-packages/coremltools/models/neural_network/quantization_utils.py:390: ConvergenceWarning: Number of distinct clusters (1) found smaller than n_clusters (256). Possibly due to duplicate points in X.\n",
      "  ).fit(wf)\n"
     ]
    },
    {
     "name": "stdout",
     "output_type": "stream",
     "text": [
      "Quantizing layer input.17 of type innerProduct\n"
     ]
    },
    {
     "name": "stderr",
     "output_type": "stream",
     "text": [
      "/Users/yaof/anaconda3/envs/CoreML/lib/python3.10/site-packages/coremltools/models/neural_network/quantization_utils.py:390: ConvergenceWarning: Number of distinct clusters (1) found smaller than n_clusters (256). Possibly due to duplicate points in X.\n",
      "  ).fit(wf)\n"
     ]
    },
    {
     "name": "stdout",
     "output_type": "stream",
     "text": [
      "Quantizing layer input.19 of type innerProduct\n"
     ]
    },
    {
     "name": "stderr",
     "output_type": "stream",
     "text": [
      "/Users/yaof/anaconda3/envs/CoreML/lib/python3.10/site-packages/coremltools/models/neural_network/quantization_utils.py:390: ConvergenceWarning: Number of distinct clusters (1) found smaller than n_clusters (256). Possibly due to duplicate points in X.\n",
      "  ).fit(wf)\n"
     ]
    },
    {
     "name": "stdout",
     "output_type": "stream",
     "text": [
      "Quantizing layer input.21 of type innerProduct\n"
     ]
    },
    {
     "name": "stderr",
     "output_type": "stream",
     "text": [
      "/Users/yaof/anaconda3/envs/CoreML/lib/python3.10/site-packages/coremltools/models/neural_network/quantization_utils.py:390: ConvergenceWarning: Number of distinct clusters (1) found smaller than n_clusters (256). Possibly due to duplicate points in X.\n",
      "  ).fit(wf)\n"
     ]
    },
    {
     "name": "stdout",
     "output_type": "stream",
     "text": [
      "Quantizing layer input.23 of type innerProduct\n"
     ]
    },
    {
     "name": "stderr",
     "output_type": "stream",
     "text": [
      "/Users/yaof/anaconda3/envs/CoreML/lib/python3.10/site-packages/coremltools/models/neural_network/quantization_utils.py:390: ConvergenceWarning: Number of distinct clusters (1) found smaller than n_clusters (256). Possibly due to duplicate points in X.\n",
      "  ).fit(wf)\n"
     ]
    },
    {
     "name": "stdout",
     "output_type": "stream",
     "text": [
      "Quantizing layer input.25 of type innerProduct\n"
     ]
    },
    {
     "name": "stderr",
     "output_type": "stream",
     "text": [
      "/Users/yaof/anaconda3/envs/CoreML/lib/python3.10/site-packages/coremltools/models/neural_network/quantization_utils.py:390: ConvergenceWarning: Number of distinct clusters (1) found smaller than n_clusters (256). Possibly due to duplicate points in X.\n",
      "  ).fit(wf)\n"
     ]
    },
    {
     "name": "stdout",
     "output_type": "stream",
     "text": [
      "Quantizing layer input.27 of type innerProduct\n"
     ]
    },
    {
     "name": "stderr",
     "output_type": "stream",
     "text": [
      "/Users/yaof/anaconda3/envs/CoreML/lib/python3.10/site-packages/coremltools/models/neural_network/quantization_utils.py:390: ConvergenceWarning: Number of distinct clusters (1) found smaller than n_clusters (256). Possibly due to duplicate points in X.\n",
      "  ).fit(wf)\n"
     ]
    },
    {
     "name": "stdout",
     "output_type": "stream",
     "text": [
      "Quantizing layer input.29 of type innerProduct\n"
     ]
    },
    {
     "name": "stderr",
     "output_type": "stream",
     "text": [
      "/Users/yaof/anaconda3/envs/CoreML/lib/python3.10/site-packages/coremltools/models/neural_network/quantization_utils.py:390: ConvergenceWarning: Number of distinct clusters (1) found smaller than n_clusters (256). Possibly due to duplicate points in X.\n",
      "  ).fit(wf)\n"
     ]
    },
    {
     "name": "stdout",
     "output_type": "stream",
     "text": [
      "Quantizing layer input.31 of type innerProduct\n"
     ]
    },
    {
     "name": "stderr",
     "output_type": "stream",
     "text": [
      "/Users/yaof/anaconda3/envs/CoreML/lib/python3.10/site-packages/coremltools/models/neural_network/quantization_utils.py:390: ConvergenceWarning: Number of distinct clusters (1) found smaller than n_clusters (256). Possibly due to duplicate points in X.\n",
      "  ).fit(wf)\n"
     ]
    },
    {
     "name": "stdout",
     "output_type": "stream",
     "text": [
      "Quantizing layer input.33 of type innerProduct\n"
     ]
    },
    {
     "name": "stderr",
     "output_type": "stream",
     "text": [
      "/Users/yaof/anaconda3/envs/CoreML/lib/python3.10/site-packages/coremltools/models/neural_network/quantization_utils.py:390: ConvergenceWarning: Number of distinct clusters (1) found smaller than n_clusters (256). Possibly due to duplicate points in X.\n",
      "  ).fit(wf)\n"
     ]
    },
    {
     "name": "stdout",
     "output_type": "stream",
     "text": [
      "Quantizing layer input.35 of type innerProduct\n"
     ]
    },
    {
     "name": "stderr",
     "output_type": "stream",
     "text": [
      "/Users/yaof/anaconda3/envs/CoreML/lib/python3.10/site-packages/coremltools/models/neural_network/quantization_utils.py:390: ConvergenceWarning: Number of distinct clusters (1) found smaller than n_clusters (256). Possibly due to duplicate points in X.\n",
      "  ).fit(wf)\n"
     ]
    },
    {
     "name": "stdout",
     "output_type": "stream",
     "text": [
      "Quantizing layer input.37 of type innerProduct\n"
     ]
    },
    {
     "name": "stderr",
     "output_type": "stream",
     "text": [
      "/Users/yaof/anaconda3/envs/CoreML/lib/python3.10/site-packages/coremltools/models/neural_network/quantization_utils.py:390: ConvergenceWarning: Number of distinct clusters (1) found smaller than n_clusters (256). Possibly due to duplicate points in X.\n",
      "  ).fit(wf)\n"
     ]
    },
    {
     "name": "stdout",
     "output_type": "stream",
     "text": [
      "Quantizing layer input.39 of type innerProduct\n"
     ]
    },
    {
     "name": "stderr",
     "output_type": "stream",
     "text": [
      "/Users/yaof/anaconda3/envs/CoreML/lib/python3.10/site-packages/coremltools/models/neural_network/quantization_utils.py:390: ConvergenceWarning: Number of distinct clusters (1) found smaller than n_clusters (256). Possibly due to duplicate points in X.\n",
      "  ).fit(wf)\n"
     ]
    },
    {
     "name": "stdout",
     "output_type": "stream",
     "text": [
      "Quantizing layer input.41 of type innerProduct\n"
     ]
    },
    {
     "name": "stderr",
     "output_type": "stream",
     "text": [
      "/Users/yaof/anaconda3/envs/CoreML/lib/python3.10/site-packages/coremltools/models/neural_network/quantization_utils.py:390: ConvergenceWarning: Number of distinct clusters (1) found smaller than n_clusters (256). Possibly due to duplicate points in X.\n",
      "  ).fit(wf)\n"
     ]
    },
    {
     "name": "stdout",
     "output_type": "stream",
     "text": [
      "Quantizing layer input.43 of type innerProduct\n"
     ]
    },
    {
     "name": "stderr",
     "output_type": "stream",
     "text": [
      "/Users/yaof/anaconda3/envs/CoreML/lib/python3.10/site-packages/coremltools/models/neural_network/quantization_utils.py:390: ConvergenceWarning: Number of distinct clusters (1) found smaller than n_clusters (256). Possibly due to duplicate points in X.\n",
      "  ).fit(wf)\n"
     ]
    },
    {
     "name": "stdout",
     "output_type": "stream",
     "text": [
      "Quantizing layer input.45 of type innerProduct\n"
     ]
    },
    {
     "name": "stderr",
     "output_type": "stream",
     "text": [
      "/Users/yaof/anaconda3/envs/CoreML/lib/python3.10/site-packages/coremltools/models/neural_network/quantization_utils.py:390: ConvergenceWarning: Number of distinct clusters (1) found smaller than n_clusters (256). Possibly due to duplicate points in X.\n",
      "  ).fit(wf)\n"
     ]
    },
    {
     "name": "stdout",
     "output_type": "stream",
     "text": [
      "Quantizing layer input of type innerProduct\n"
     ]
    },
    {
     "name": "stderr",
     "output_type": "stream",
     "text": [
      "/Users/yaof/anaconda3/envs/CoreML/lib/python3.10/site-packages/coremltools/models/neural_network/quantization_utils.py:390: ConvergenceWarning: Number of distinct clusters (1) found smaller than n_clusters (256). Possibly due to duplicate points in X.\n",
      "  ).fit(wf)\n"
     ]
    },
    {
     "name": "stdout",
     "output_type": "stream",
     "text": [
      "Quantizing layer 97 of type innerProduct\n"
     ]
    },
    {
     "name": "stderr",
     "output_type": "stream",
     "text": [
      "/Users/yaof/anaconda3/envs/CoreML/lib/python3.10/site-packages/coremltools/models/neural_network/quantization_utils.py:390: ConvergenceWarning: Number of distinct clusters (1) found smaller than n_clusters (256). Possibly due to duplicate points in X.\n",
      "  ).fit(wf)\n",
      "Converting PyTorch Frontend ==> MIL Ops:  98%|▉| 63/64 [00:00<00:00, 4560.21 ops\n",
      "Running MIL frontend_pytorch pipeline: 100%|█| 5/5 [00:00<00:00, 6659.74 passes/\n",
      "Running MIL default pipeline:   0%|                 | 0/56 [00:00<?, ? passes/s]/Users/yaof/anaconda3/envs/CoreML/lib/python3.10/site-packages/coremltools/converters/mil/mil/passes/defs/preprocess.py:262: UserWarning: Output, '129', of the source model, has been renamed to 'var_129' in the Core ML model.\n",
      "  warnings.warn(msg.format(var.name, new_name))\n",
      "Running MIL default pipeline: 100%|██████| 56/56 [00:00<00:00, 1324.10 passes/s]\n",
      "Running MIL backend_neuralnetwork pipeline: 100%|█| 8/8 [00:00<00:00, 8938.31 pa\n",
      "Translating MIL ==> NeuralNetwork Ops: 100%|██| 96/96 [00:01<00:00, 89.23 ops/s]\n"
     ]
    },
    {
     "name": "stdout",
     "output_type": "stream",
     "text": [
      "Quantizing using linear quantization\n",
      "Quantizing layer input.3 of type innerProduct\n",
      "Quantizing layer input.5 of type innerProduct\n",
      "Quantizing layer input.7 of type innerProduct\n",
      "Quantizing layer input.9 of type innerProduct\n",
      "Quantizing layer input.11 of type innerProduct\n",
      "Quantizing layer input.13 of type innerProduct\n",
      "Quantizing layer input.15 of type innerProduct\n",
      "Quantizing layer input.17 of type innerProduct\n",
      "Quantizing layer input.19 of type innerProduct\n",
      "Quantizing layer input.21 of type innerProduct\n",
      "Quantizing layer input.23 of type innerProduct\n",
      "Quantizing layer input.25 of type innerProduct\n",
      "Quantizing layer input.27 of type innerProduct\n",
      "Quantizing layer input.29 of type innerProduct\n",
      "Quantizing layer input.31 of type innerProduct\n",
      "Quantizing layer input.33 of type innerProduct\n",
      "Quantizing layer input.35 of type innerProduct\n",
      "Quantizing layer input.37 of type innerProduct\n",
      "Quantizing layer input.39 of type innerProduct\n",
      "Quantizing layer input.41 of type innerProduct\n",
      "Quantizing layer input.43 of type innerProduct\n",
      "Quantizing layer input.45 of type innerProduct\n",
      "Quantizing layer input.47 of type innerProduct\n",
      "Quantizing layer input.49 of type innerProduct\n",
      "Quantizing layer input.51 of type innerProduct\n",
      "Quantizing layer input.53 of type innerProduct\n",
      "Quantizing layer input.55 of type innerProduct\n",
      "Quantizing layer input.57 of type innerProduct\n",
      "Quantizing layer input.59 of type innerProduct\n",
      "Quantizing layer input.61 of type innerProduct\n",
      "Quantizing layer input of type innerProduct\n",
      "Quantizing layer 129 of type innerProduct\n",
      "Quantizing using kmeans quantization\n",
      "Optimizing Neural Network before Quantization:\n",
      "Finished optimizing network. Quantizing neural network..\n",
      "Quantizing layer input.3 of type innerProduct\n"
     ]
    },
    {
     "name": "stderr",
     "output_type": "stream",
     "text": [
      "/Users/yaof/anaconda3/envs/CoreML/lib/python3.10/site-packages/coremltools/models/neural_network/quantization_utils.py:390: ConvergenceWarning: Number of distinct clusters (1) found smaller than n_clusters (256). Possibly due to duplicate points in X.\n",
      "  ).fit(wf)\n"
     ]
    },
    {
     "name": "stdout",
     "output_type": "stream",
     "text": [
      "Quantizing layer input.5 of type innerProduct\n"
     ]
    },
    {
     "name": "stderr",
     "output_type": "stream",
     "text": [
      "/Users/yaof/anaconda3/envs/CoreML/lib/python3.10/site-packages/coremltools/models/neural_network/quantization_utils.py:390: ConvergenceWarning: Number of distinct clusters (1) found smaller than n_clusters (256). Possibly due to duplicate points in X.\n",
      "  ).fit(wf)\n"
     ]
    },
    {
     "name": "stdout",
     "output_type": "stream",
     "text": [
      "Quantizing layer input.7 of type innerProduct\n"
     ]
    },
    {
     "name": "stderr",
     "output_type": "stream",
     "text": [
      "/Users/yaof/anaconda3/envs/CoreML/lib/python3.10/site-packages/coremltools/models/neural_network/quantization_utils.py:390: ConvergenceWarning: Number of distinct clusters (1) found smaller than n_clusters (256). Possibly due to duplicate points in X.\n",
      "  ).fit(wf)\n"
     ]
    },
    {
     "name": "stdout",
     "output_type": "stream",
     "text": [
      "Quantizing layer input.9 of type innerProduct\n"
     ]
    },
    {
     "name": "stderr",
     "output_type": "stream",
     "text": [
      "/Users/yaof/anaconda3/envs/CoreML/lib/python3.10/site-packages/coremltools/models/neural_network/quantization_utils.py:390: ConvergenceWarning: Number of distinct clusters (1) found smaller than n_clusters (256). Possibly due to duplicate points in X.\n",
      "  ).fit(wf)\n"
     ]
    },
    {
     "name": "stdout",
     "output_type": "stream",
     "text": [
      "Quantizing layer input.11 of type innerProduct\n"
     ]
    },
    {
     "name": "stderr",
     "output_type": "stream",
     "text": [
      "/Users/yaof/anaconda3/envs/CoreML/lib/python3.10/site-packages/coremltools/models/neural_network/quantization_utils.py:390: ConvergenceWarning: Number of distinct clusters (1) found smaller than n_clusters (256). Possibly due to duplicate points in X.\n",
      "  ).fit(wf)\n"
     ]
    },
    {
     "name": "stdout",
     "output_type": "stream",
     "text": [
      "Quantizing layer input.13 of type innerProduct\n"
     ]
    },
    {
     "name": "stderr",
     "output_type": "stream",
     "text": [
      "/Users/yaof/anaconda3/envs/CoreML/lib/python3.10/site-packages/coremltools/models/neural_network/quantization_utils.py:390: ConvergenceWarning: Number of distinct clusters (1) found smaller than n_clusters (256). Possibly due to duplicate points in X.\n",
      "  ).fit(wf)\n"
     ]
    },
    {
     "name": "stdout",
     "output_type": "stream",
     "text": [
      "Quantizing layer input.15 of type innerProduct\n"
     ]
    },
    {
     "name": "stderr",
     "output_type": "stream",
     "text": [
      "/Users/yaof/anaconda3/envs/CoreML/lib/python3.10/site-packages/coremltools/models/neural_network/quantization_utils.py:390: ConvergenceWarning: Number of distinct clusters (1) found smaller than n_clusters (256). Possibly due to duplicate points in X.\n",
      "  ).fit(wf)\n"
     ]
    },
    {
     "name": "stdout",
     "output_type": "stream",
     "text": [
      "Quantizing layer input.17 of type innerProduct\n"
     ]
    },
    {
     "name": "stderr",
     "output_type": "stream",
     "text": [
      "/Users/yaof/anaconda3/envs/CoreML/lib/python3.10/site-packages/coremltools/models/neural_network/quantization_utils.py:390: ConvergenceWarning: Number of distinct clusters (1) found smaller than n_clusters (256). Possibly due to duplicate points in X.\n",
      "  ).fit(wf)\n"
     ]
    },
    {
     "name": "stdout",
     "output_type": "stream",
     "text": [
      "Quantizing layer input.19 of type innerProduct\n"
     ]
    },
    {
     "name": "stderr",
     "output_type": "stream",
     "text": [
      "/Users/yaof/anaconda3/envs/CoreML/lib/python3.10/site-packages/coremltools/models/neural_network/quantization_utils.py:390: ConvergenceWarning: Number of distinct clusters (1) found smaller than n_clusters (256). Possibly due to duplicate points in X.\n",
      "  ).fit(wf)\n"
     ]
    },
    {
     "name": "stdout",
     "output_type": "stream",
     "text": [
      "Quantizing layer input.21 of type innerProduct\n"
     ]
    },
    {
     "name": "stderr",
     "output_type": "stream",
     "text": [
      "/Users/yaof/anaconda3/envs/CoreML/lib/python3.10/site-packages/coremltools/models/neural_network/quantization_utils.py:390: ConvergenceWarning: Number of distinct clusters (1) found smaller than n_clusters (256). Possibly due to duplicate points in X.\n",
      "  ).fit(wf)\n"
     ]
    },
    {
     "name": "stdout",
     "output_type": "stream",
     "text": [
      "Quantizing layer input.23 of type innerProduct\n"
     ]
    },
    {
     "name": "stderr",
     "output_type": "stream",
     "text": [
      "/Users/yaof/anaconda3/envs/CoreML/lib/python3.10/site-packages/coremltools/models/neural_network/quantization_utils.py:390: ConvergenceWarning: Number of distinct clusters (1) found smaller than n_clusters (256). Possibly due to duplicate points in X.\n",
      "  ).fit(wf)\n"
     ]
    },
    {
     "name": "stdout",
     "output_type": "stream",
     "text": [
      "Quantizing layer input.25 of type innerProduct\n"
     ]
    },
    {
     "name": "stderr",
     "output_type": "stream",
     "text": [
      "/Users/yaof/anaconda3/envs/CoreML/lib/python3.10/site-packages/coremltools/models/neural_network/quantization_utils.py:390: ConvergenceWarning: Number of distinct clusters (1) found smaller than n_clusters (256). Possibly due to duplicate points in X.\n",
      "  ).fit(wf)\n"
     ]
    },
    {
     "name": "stdout",
     "output_type": "stream",
     "text": [
      "Quantizing layer input.27 of type innerProduct\n"
     ]
    },
    {
     "name": "stderr",
     "output_type": "stream",
     "text": [
      "/Users/yaof/anaconda3/envs/CoreML/lib/python3.10/site-packages/coremltools/models/neural_network/quantization_utils.py:390: ConvergenceWarning: Number of distinct clusters (1) found smaller than n_clusters (256). Possibly due to duplicate points in X.\n",
      "  ).fit(wf)\n"
     ]
    },
    {
     "name": "stdout",
     "output_type": "stream",
     "text": [
      "Quantizing layer input.29 of type innerProduct\n"
     ]
    },
    {
     "name": "stderr",
     "output_type": "stream",
     "text": [
      "/Users/yaof/anaconda3/envs/CoreML/lib/python3.10/site-packages/coremltools/models/neural_network/quantization_utils.py:390: ConvergenceWarning: Number of distinct clusters (1) found smaller than n_clusters (256). Possibly due to duplicate points in X.\n",
      "  ).fit(wf)\n"
     ]
    },
    {
     "name": "stdout",
     "output_type": "stream",
     "text": [
      "Quantizing layer input.31 of type innerProduct\n"
     ]
    },
    {
     "name": "stderr",
     "output_type": "stream",
     "text": [
      "/Users/yaof/anaconda3/envs/CoreML/lib/python3.10/site-packages/coremltools/models/neural_network/quantization_utils.py:390: ConvergenceWarning: Number of distinct clusters (1) found smaller than n_clusters (256). Possibly due to duplicate points in X.\n",
      "  ).fit(wf)\n"
     ]
    },
    {
     "name": "stdout",
     "output_type": "stream",
     "text": [
      "Quantizing layer input.33 of type innerProduct\n"
     ]
    },
    {
     "name": "stderr",
     "output_type": "stream",
     "text": [
      "/Users/yaof/anaconda3/envs/CoreML/lib/python3.10/site-packages/coremltools/models/neural_network/quantization_utils.py:390: ConvergenceWarning: Number of distinct clusters (1) found smaller than n_clusters (256). Possibly due to duplicate points in X.\n",
      "  ).fit(wf)\n"
     ]
    },
    {
     "name": "stdout",
     "output_type": "stream",
     "text": [
      "Quantizing layer input.35 of type innerProduct\n"
     ]
    },
    {
     "name": "stderr",
     "output_type": "stream",
     "text": [
      "/Users/yaof/anaconda3/envs/CoreML/lib/python3.10/site-packages/coremltools/models/neural_network/quantization_utils.py:390: ConvergenceWarning: Number of distinct clusters (1) found smaller than n_clusters (256). Possibly due to duplicate points in X.\n",
      "  ).fit(wf)\n"
     ]
    },
    {
     "name": "stdout",
     "output_type": "stream",
     "text": [
      "Quantizing layer input.37 of type innerProduct\n"
     ]
    },
    {
     "name": "stderr",
     "output_type": "stream",
     "text": [
      "/Users/yaof/anaconda3/envs/CoreML/lib/python3.10/site-packages/coremltools/models/neural_network/quantization_utils.py:390: ConvergenceWarning: Number of distinct clusters (1) found smaller than n_clusters (256). Possibly due to duplicate points in X.\n",
      "  ).fit(wf)\n"
     ]
    },
    {
     "name": "stdout",
     "output_type": "stream",
     "text": [
      "Quantizing layer input.39 of type innerProduct\n"
     ]
    },
    {
     "name": "stderr",
     "output_type": "stream",
     "text": [
      "/Users/yaof/anaconda3/envs/CoreML/lib/python3.10/site-packages/coremltools/models/neural_network/quantization_utils.py:390: ConvergenceWarning: Number of distinct clusters (1) found smaller than n_clusters (256). Possibly due to duplicate points in X.\n",
      "  ).fit(wf)\n"
     ]
    },
    {
     "name": "stdout",
     "output_type": "stream",
     "text": [
      "Quantizing layer input.41 of type innerProduct\n"
     ]
    },
    {
     "name": "stderr",
     "output_type": "stream",
     "text": [
      "/Users/yaof/anaconda3/envs/CoreML/lib/python3.10/site-packages/coremltools/models/neural_network/quantization_utils.py:390: ConvergenceWarning: Number of distinct clusters (1) found smaller than n_clusters (256). Possibly due to duplicate points in X.\n",
      "  ).fit(wf)\n"
     ]
    },
    {
     "name": "stdout",
     "output_type": "stream",
     "text": [
      "Quantizing layer input.43 of type innerProduct\n"
     ]
    },
    {
     "name": "stderr",
     "output_type": "stream",
     "text": [
      "/Users/yaof/anaconda3/envs/CoreML/lib/python3.10/site-packages/coremltools/models/neural_network/quantization_utils.py:390: ConvergenceWarning: Number of distinct clusters (1) found smaller than n_clusters (256). Possibly due to duplicate points in X.\n",
      "  ).fit(wf)\n"
     ]
    },
    {
     "name": "stdout",
     "output_type": "stream",
     "text": [
      "Quantizing layer input.45 of type innerProduct\n"
     ]
    },
    {
     "name": "stderr",
     "output_type": "stream",
     "text": [
      "/Users/yaof/anaconda3/envs/CoreML/lib/python3.10/site-packages/coremltools/models/neural_network/quantization_utils.py:390: ConvergenceWarning: Number of distinct clusters (1) found smaller than n_clusters (256). Possibly due to duplicate points in X.\n",
      "  ).fit(wf)\n"
     ]
    },
    {
     "name": "stdout",
     "output_type": "stream",
     "text": [
      "Quantizing layer input.47 of type innerProduct\n"
     ]
    },
    {
     "name": "stderr",
     "output_type": "stream",
     "text": [
      "/Users/yaof/anaconda3/envs/CoreML/lib/python3.10/site-packages/coremltools/models/neural_network/quantization_utils.py:390: ConvergenceWarning: Number of distinct clusters (1) found smaller than n_clusters (256). Possibly due to duplicate points in X.\n",
      "  ).fit(wf)\n"
     ]
    },
    {
     "name": "stdout",
     "output_type": "stream",
     "text": [
      "Quantizing layer input.49 of type innerProduct\n"
     ]
    },
    {
     "name": "stderr",
     "output_type": "stream",
     "text": [
      "/Users/yaof/anaconda3/envs/CoreML/lib/python3.10/site-packages/coremltools/models/neural_network/quantization_utils.py:390: ConvergenceWarning: Number of distinct clusters (1) found smaller than n_clusters (256). Possibly due to duplicate points in X.\n",
      "  ).fit(wf)\n"
     ]
    },
    {
     "name": "stdout",
     "output_type": "stream",
     "text": [
      "Quantizing layer input.51 of type innerProduct\n"
     ]
    },
    {
     "name": "stderr",
     "output_type": "stream",
     "text": [
      "/Users/yaof/anaconda3/envs/CoreML/lib/python3.10/site-packages/coremltools/models/neural_network/quantization_utils.py:390: ConvergenceWarning: Number of distinct clusters (1) found smaller than n_clusters (256). Possibly due to duplicate points in X.\n",
      "  ).fit(wf)\n"
     ]
    },
    {
     "name": "stdout",
     "output_type": "stream",
     "text": [
      "Quantizing layer input.53 of type innerProduct\n"
     ]
    },
    {
     "name": "stderr",
     "output_type": "stream",
     "text": [
      "/Users/yaof/anaconda3/envs/CoreML/lib/python3.10/site-packages/coremltools/models/neural_network/quantization_utils.py:390: ConvergenceWarning: Number of distinct clusters (1) found smaller than n_clusters (256). Possibly due to duplicate points in X.\n",
      "  ).fit(wf)\n"
     ]
    },
    {
     "name": "stdout",
     "output_type": "stream",
     "text": [
      "Quantizing layer input.55 of type innerProduct\n"
     ]
    },
    {
     "name": "stderr",
     "output_type": "stream",
     "text": [
      "/Users/yaof/anaconda3/envs/CoreML/lib/python3.10/site-packages/coremltools/models/neural_network/quantization_utils.py:390: ConvergenceWarning: Number of distinct clusters (1) found smaller than n_clusters (256). Possibly due to duplicate points in X.\n",
      "  ).fit(wf)\n"
     ]
    },
    {
     "name": "stdout",
     "output_type": "stream",
     "text": [
      "Quantizing layer input.57 of type innerProduct\n"
     ]
    },
    {
     "name": "stderr",
     "output_type": "stream",
     "text": [
      "/Users/yaof/anaconda3/envs/CoreML/lib/python3.10/site-packages/coremltools/models/neural_network/quantization_utils.py:390: ConvergenceWarning: Number of distinct clusters (1) found smaller than n_clusters (256). Possibly due to duplicate points in X.\n",
      "  ).fit(wf)\n"
     ]
    },
    {
     "name": "stdout",
     "output_type": "stream",
     "text": [
      "Quantizing layer input.59 of type innerProduct\n"
     ]
    },
    {
     "name": "stderr",
     "output_type": "stream",
     "text": [
      "/Users/yaof/anaconda3/envs/CoreML/lib/python3.10/site-packages/coremltools/models/neural_network/quantization_utils.py:390: ConvergenceWarning: Number of distinct clusters (1) found smaller than n_clusters (256). Possibly due to duplicate points in X.\n",
      "  ).fit(wf)\n"
     ]
    },
    {
     "name": "stdout",
     "output_type": "stream",
     "text": [
      "Quantizing layer input.61 of type innerProduct\n"
     ]
    },
    {
     "name": "stderr",
     "output_type": "stream",
     "text": [
      "/Users/yaof/anaconda3/envs/CoreML/lib/python3.10/site-packages/coremltools/models/neural_network/quantization_utils.py:390: ConvergenceWarning: Number of distinct clusters (1) found smaller than n_clusters (256). Possibly due to duplicate points in X.\n",
      "  ).fit(wf)\n"
     ]
    },
    {
     "name": "stdout",
     "output_type": "stream",
     "text": [
      "Quantizing layer input of type innerProduct\n"
     ]
    },
    {
     "name": "stderr",
     "output_type": "stream",
     "text": [
      "/Users/yaof/anaconda3/envs/CoreML/lib/python3.10/site-packages/coremltools/models/neural_network/quantization_utils.py:390: ConvergenceWarning: Number of distinct clusters (1) found smaller than n_clusters (256). Possibly due to duplicate points in X.\n",
      "  ).fit(wf)\n"
     ]
    },
    {
     "name": "stdout",
     "output_type": "stream",
     "text": [
      "Quantizing layer 129 of type innerProduct\n"
     ]
    },
    {
     "name": "stderr",
     "output_type": "stream",
     "text": [
      "/Users/yaof/anaconda3/envs/CoreML/lib/python3.10/site-packages/coremltools/models/neural_network/quantization_utils.py:390: ConvergenceWarning: Number of distinct clusters (1) found smaller than n_clusters (256). Possibly due to duplicate points in X.\n",
      "  ).fit(wf)\n",
      "Converting PyTorch Frontend ==> MIL Ops:  94%|▉| 15/16 [00:00<00:00, 2623.74 ops\n",
      "Running MIL frontend_pytorch pipeline: 100%|█| 5/5 [00:00<00:00, 16461.16 passes\n",
      "Running MIL default pipeline:   0%|                 | 0/56 [00:00<?, ? passes/s]/Users/yaof/anaconda3/envs/CoreML/lib/python3.10/site-packages/coremltools/converters/mil/mil/passes/defs/preprocess.py:262: UserWarning: Output, '33', of the source model, has been renamed to 'var_33' in the Core ML model.\n",
      "  warnings.warn(msg.format(var.name, new_name))\n",
      "Running MIL default pipeline: 100%|██████| 56/56 [00:00<00:00, 2815.51 passes/s]\n",
      "Running MIL backend_neuralnetwork pipeline: 100%|█| 8/8 [00:00<00:00, 27191.60 p\n",
      "Translating MIL ==> NeuralNetwork Ops: 100%|██| 24/24 [00:01<00:00, 22.19 ops/s]\n"
     ]
    },
    {
     "name": "stdout",
     "output_type": "stream",
     "text": [
      "Quantizing using linear quantization\n",
      "Quantizing layer input.3 of type innerProduct\n",
      "Quantizing layer input.5 of type innerProduct\n",
      "Quantizing layer input.7 of type innerProduct\n",
      "Quantizing layer input.9 of type innerProduct\n",
      "Quantizing layer input.11 of type innerProduct\n",
      "Quantizing layer input.13 of type innerProduct\n",
      "Quantizing layer input of type innerProduct\n",
      "Quantizing layer 33 of type innerProduct\n",
      "Quantizing using kmeans quantization\n",
      "Optimizing Neural Network before Quantization:\n",
      "Finished optimizing network. Quantizing neural network..\n",
      "Quantizing layer input.3 of type innerProduct\n"
     ]
    },
    {
     "name": "stderr",
     "output_type": "stream",
     "text": [
      "/Users/yaof/anaconda3/envs/CoreML/lib/python3.10/site-packages/coremltools/models/neural_network/quantization_utils.py:390: ConvergenceWarning: Number of distinct clusters (1) found smaller than n_clusters (256). Possibly due to duplicate points in X.\n",
      "  ).fit(wf)\n"
     ]
    },
    {
     "name": "stdout",
     "output_type": "stream",
     "text": [
      "Quantizing layer input.5 of type innerProduct\n"
     ]
    },
    {
     "name": "stderr",
     "output_type": "stream",
     "text": [
      "/Users/yaof/anaconda3/envs/CoreML/lib/python3.10/site-packages/coremltools/models/neural_network/quantization_utils.py:390: ConvergenceWarning: Number of distinct clusters (1) found smaller than n_clusters (256). Possibly due to duplicate points in X.\n",
      "  ).fit(wf)\n"
     ]
    },
    {
     "name": "stdout",
     "output_type": "stream",
     "text": [
      "Quantizing layer input.7 of type innerProduct\n"
     ]
    },
    {
     "name": "stderr",
     "output_type": "stream",
     "text": [
      "/Users/yaof/anaconda3/envs/CoreML/lib/python3.10/site-packages/coremltools/models/neural_network/quantization_utils.py:390: ConvergenceWarning: Number of distinct clusters (1) found smaller than n_clusters (256). Possibly due to duplicate points in X.\n",
      "  ).fit(wf)\n"
     ]
    },
    {
     "name": "stdout",
     "output_type": "stream",
     "text": [
      "Quantizing layer input.9 of type innerProduct\n"
     ]
    },
    {
     "name": "stderr",
     "output_type": "stream",
     "text": [
      "/Users/yaof/anaconda3/envs/CoreML/lib/python3.10/site-packages/coremltools/models/neural_network/quantization_utils.py:390: ConvergenceWarning: Number of distinct clusters (1) found smaller than n_clusters (256). Possibly due to duplicate points in X.\n",
      "  ).fit(wf)\n"
     ]
    },
    {
     "name": "stdout",
     "output_type": "stream",
     "text": [
      "Quantizing layer input.11 of type innerProduct\n"
     ]
    },
    {
     "name": "stderr",
     "output_type": "stream",
     "text": [
      "/Users/yaof/anaconda3/envs/CoreML/lib/python3.10/site-packages/coremltools/models/neural_network/quantization_utils.py:390: ConvergenceWarning: Number of distinct clusters (1) found smaller than n_clusters (256). Possibly due to duplicate points in X.\n",
      "  ).fit(wf)\n"
     ]
    },
    {
     "name": "stdout",
     "output_type": "stream",
     "text": [
      "Quantizing layer input.13 of type innerProduct\n"
     ]
    },
    {
     "name": "stderr",
     "output_type": "stream",
     "text": [
      "/Users/yaof/anaconda3/envs/CoreML/lib/python3.10/site-packages/coremltools/models/neural_network/quantization_utils.py:390: ConvergenceWarning: Number of distinct clusters (1) found smaller than n_clusters (256). Possibly due to duplicate points in X.\n",
      "  ).fit(wf)\n"
     ]
    },
    {
     "name": "stdout",
     "output_type": "stream",
     "text": [
      "Quantizing layer input of type innerProduct\n"
     ]
    },
    {
     "name": "stderr",
     "output_type": "stream",
     "text": [
      "/Users/yaof/anaconda3/envs/CoreML/lib/python3.10/site-packages/coremltools/models/neural_network/quantization_utils.py:390: ConvergenceWarning: Number of distinct clusters (1) found smaller than n_clusters (256). Possibly due to duplicate points in X.\n",
      "  ).fit(wf)\n"
     ]
    },
    {
     "name": "stdout",
     "output_type": "stream",
     "text": [
      "Quantizing layer 33 of type innerProduct\n"
     ]
    },
    {
     "name": "stderr",
     "output_type": "stream",
     "text": [
      "/Users/yaof/anaconda3/envs/CoreML/lib/python3.10/site-packages/coremltools/models/neural_network/quantization_utils.py:390: ConvergenceWarning: Number of distinct clusters (1) found smaller than n_clusters (256). Possibly due to duplicate points in X.\n",
      "  ).fit(wf)\n",
      "Converting PyTorch Frontend ==> MIL Ops:  97%|▉| 31/32 [00:00<00:00, 2846.90 ops\n",
      "Running MIL frontend_pytorch pipeline: 100%|█| 5/5 [00:00<00:00, 14246.96 passes\n",
      "Running MIL default pipeline:   0%|                 | 0/56 [00:00<?, ? passes/s]/Users/yaof/anaconda3/envs/CoreML/lib/python3.10/site-packages/coremltools/converters/mil/mil/passes/defs/preprocess.py:262: UserWarning: Output, '65', of the source model, has been renamed to 'var_65' in the Core ML model.\n",
      "  warnings.warn(msg.format(var.name, new_name))\n",
      "Running MIL default pipeline: 100%|██████| 56/56 [00:00<00:00, 1693.79 passes/s]\n",
      "Running MIL backend_neuralnetwork pipeline: 100%|█| 8/8 [00:00<00:00, 18176.83 p\n",
      "Translating MIL ==> NeuralNetwork Ops: 100%|██| 48/48 [00:02<00:00, 22.33 ops/s]\n"
     ]
    },
    {
     "name": "stdout",
     "output_type": "stream",
     "text": [
      "Quantizing using linear quantization\n",
      "Quantizing layer input.3 of type innerProduct\n",
      "Quantizing layer input.5 of type innerProduct\n",
      "Quantizing layer input.7 of type innerProduct\n",
      "Quantizing layer input.9 of type innerProduct\n",
      "Quantizing layer input.11 of type innerProduct\n",
      "Quantizing layer input.13 of type innerProduct\n",
      "Quantizing layer input.15 of type innerProduct\n",
      "Quantizing layer input.17 of type innerProduct\n",
      "Quantizing layer input.19 of type innerProduct\n",
      "Quantizing layer input.21 of type innerProduct\n",
      "Quantizing layer input.23 of type innerProduct\n",
      "Quantizing layer input.25 of type innerProduct\n",
      "Quantizing layer input.27 of type innerProduct\n",
      "Quantizing layer input.29 of type innerProduct\n",
      "Quantizing layer input of type innerProduct\n",
      "Quantizing layer 65 of type innerProduct\n",
      "Quantizing using kmeans quantization\n",
      "Optimizing Neural Network before Quantization:\n",
      "Finished optimizing network. Quantizing neural network..\n",
      "Quantizing layer input.3 of type innerProduct\n"
     ]
    },
    {
     "name": "stderr",
     "output_type": "stream",
     "text": [
      "/Users/yaof/anaconda3/envs/CoreML/lib/python3.10/site-packages/coremltools/models/neural_network/quantization_utils.py:390: ConvergenceWarning: Number of distinct clusters (1) found smaller than n_clusters (256). Possibly due to duplicate points in X.\n",
      "  ).fit(wf)\n"
     ]
    },
    {
     "name": "stdout",
     "output_type": "stream",
     "text": [
      "Quantizing layer input.5 of type innerProduct\n"
     ]
    },
    {
     "name": "stderr",
     "output_type": "stream",
     "text": [
      "/Users/yaof/anaconda3/envs/CoreML/lib/python3.10/site-packages/coremltools/models/neural_network/quantization_utils.py:390: ConvergenceWarning: Number of distinct clusters (1) found smaller than n_clusters (256). Possibly due to duplicate points in X.\n",
      "  ).fit(wf)\n"
     ]
    },
    {
     "name": "stdout",
     "output_type": "stream",
     "text": [
      "Quantizing layer input.7 of type innerProduct\n"
     ]
    },
    {
     "name": "stderr",
     "output_type": "stream",
     "text": [
      "/Users/yaof/anaconda3/envs/CoreML/lib/python3.10/site-packages/coremltools/models/neural_network/quantization_utils.py:390: ConvergenceWarning: Number of distinct clusters (1) found smaller than n_clusters (256). Possibly due to duplicate points in X.\n",
      "  ).fit(wf)\n"
     ]
    },
    {
     "name": "stdout",
     "output_type": "stream",
     "text": [
      "Quantizing layer input.9 of type innerProduct\n"
     ]
    },
    {
     "name": "stderr",
     "output_type": "stream",
     "text": [
      "/Users/yaof/anaconda3/envs/CoreML/lib/python3.10/site-packages/coremltools/models/neural_network/quantization_utils.py:390: ConvergenceWarning: Number of distinct clusters (1) found smaller than n_clusters (256). Possibly due to duplicate points in X.\n",
      "  ).fit(wf)\n"
     ]
    },
    {
     "name": "stdout",
     "output_type": "stream",
     "text": [
      "Quantizing layer input.11 of type innerProduct\n"
     ]
    },
    {
     "name": "stderr",
     "output_type": "stream",
     "text": [
      "/Users/yaof/anaconda3/envs/CoreML/lib/python3.10/site-packages/coremltools/models/neural_network/quantization_utils.py:390: ConvergenceWarning: Number of distinct clusters (1) found smaller than n_clusters (256). Possibly due to duplicate points in X.\n",
      "  ).fit(wf)\n"
     ]
    },
    {
     "name": "stdout",
     "output_type": "stream",
     "text": [
      "Quantizing layer input.13 of type innerProduct\n"
     ]
    },
    {
     "name": "stderr",
     "output_type": "stream",
     "text": [
      "/Users/yaof/anaconda3/envs/CoreML/lib/python3.10/site-packages/coremltools/models/neural_network/quantization_utils.py:390: ConvergenceWarning: Number of distinct clusters (1) found smaller than n_clusters (256). Possibly due to duplicate points in X.\n",
      "  ).fit(wf)\n"
     ]
    },
    {
     "name": "stdout",
     "output_type": "stream",
     "text": [
      "Quantizing layer input.15 of type innerProduct\n"
     ]
    },
    {
     "name": "stderr",
     "output_type": "stream",
     "text": [
      "/Users/yaof/anaconda3/envs/CoreML/lib/python3.10/site-packages/coremltools/models/neural_network/quantization_utils.py:390: ConvergenceWarning: Number of distinct clusters (1) found smaller than n_clusters (256). Possibly due to duplicate points in X.\n",
      "  ).fit(wf)\n"
     ]
    },
    {
     "name": "stdout",
     "output_type": "stream",
     "text": [
      "Quantizing layer input.17 of type innerProduct\n"
     ]
    },
    {
     "name": "stderr",
     "output_type": "stream",
     "text": [
      "/Users/yaof/anaconda3/envs/CoreML/lib/python3.10/site-packages/coremltools/models/neural_network/quantization_utils.py:390: ConvergenceWarning: Number of distinct clusters (1) found smaller than n_clusters (256). Possibly due to duplicate points in X.\n",
      "  ).fit(wf)\n"
     ]
    },
    {
     "name": "stdout",
     "output_type": "stream",
     "text": [
      "Quantizing layer input.19 of type innerProduct\n"
     ]
    },
    {
     "name": "stderr",
     "output_type": "stream",
     "text": [
      "/Users/yaof/anaconda3/envs/CoreML/lib/python3.10/site-packages/coremltools/models/neural_network/quantization_utils.py:390: ConvergenceWarning: Number of distinct clusters (1) found smaller than n_clusters (256). Possibly due to duplicate points in X.\n",
      "  ).fit(wf)\n"
     ]
    },
    {
     "name": "stdout",
     "output_type": "stream",
     "text": [
      "Quantizing layer input.21 of type innerProduct\n"
     ]
    },
    {
     "name": "stderr",
     "output_type": "stream",
     "text": [
      "/Users/yaof/anaconda3/envs/CoreML/lib/python3.10/site-packages/coremltools/models/neural_network/quantization_utils.py:390: ConvergenceWarning: Number of distinct clusters (1) found smaller than n_clusters (256). Possibly due to duplicate points in X.\n",
      "  ).fit(wf)\n"
     ]
    },
    {
     "name": "stdout",
     "output_type": "stream",
     "text": [
      "Quantizing layer input.23 of type innerProduct\n"
     ]
    },
    {
     "name": "stderr",
     "output_type": "stream",
     "text": [
      "/Users/yaof/anaconda3/envs/CoreML/lib/python3.10/site-packages/coremltools/models/neural_network/quantization_utils.py:390: ConvergenceWarning: Number of distinct clusters (1) found smaller than n_clusters (256). Possibly due to duplicate points in X.\n",
      "  ).fit(wf)\n"
     ]
    },
    {
     "name": "stdout",
     "output_type": "stream",
     "text": [
      "Quantizing layer input.25 of type innerProduct\n"
     ]
    },
    {
     "name": "stderr",
     "output_type": "stream",
     "text": [
      "/Users/yaof/anaconda3/envs/CoreML/lib/python3.10/site-packages/coremltools/models/neural_network/quantization_utils.py:390: ConvergenceWarning: Number of distinct clusters (1) found smaller than n_clusters (256). Possibly due to duplicate points in X.\n",
      "  ).fit(wf)\n"
     ]
    },
    {
     "name": "stdout",
     "output_type": "stream",
     "text": [
      "Quantizing layer input.27 of type innerProduct\n"
     ]
    },
    {
     "name": "stderr",
     "output_type": "stream",
     "text": [
      "/Users/yaof/anaconda3/envs/CoreML/lib/python3.10/site-packages/coremltools/models/neural_network/quantization_utils.py:390: ConvergenceWarning: Number of distinct clusters (1) found smaller than n_clusters (256). Possibly due to duplicate points in X.\n",
      "  ).fit(wf)\n"
     ]
    },
    {
     "name": "stdout",
     "output_type": "stream",
     "text": [
      "Quantizing layer input.29 of type innerProduct\n"
     ]
    },
    {
     "name": "stderr",
     "output_type": "stream",
     "text": [
      "/Users/yaof/anaconda3/envs/CoreML/lib/python3.10/site-packages/coremltools/models/neural_network/quantization_utils.py:390: ConvergenceWarning: Number of distinct clusters (1) found smaller than n_clusters (256). Possibly due to duplicate points in X.\n",
      "  ).fit(wf)\n"
     ]
    },
    {
     "name": "stdout",
     "output_type": "stream",
     "text": [
      "Quantizing layer input of type innerProduct\n"
     ]
    },
    {
     "name": "stderr",
     "output_type": "stream",
     "text": [
      "/Users/yaof/anaconda3/envs/CoreML/lib/python3.10/site-packages/coremltools/models/neural_network/quantization_utils.py:390: ConvergenceWarning: Number of distinct clusters (1) found smaller than n_clusters (256). Possibly due to duplicate points in X.\n",
      "  ).fit(wf)\n"
     ]
    },
    {
     "name": "stdout",
     "output_type": "stream",
     "text": [
      "Quantizing layer 65 of type innerProduct\n"
     ]
    },
    {
     "name": "stderr",
     "output_type": "stream",
     "text": [
      "/Users/yaof/anaconda3/envs/CoreML/lib/python3.10/site-packages/coremltools/models/neural_network/quantization_utils.py:390: ConvergenceWarning: Number of distinct clusters (1) found smaller than n_clusters (256). Possibly due to duplicate points in X.\n",
      "  ).fit(wf)\n",
      "Converting PyTorch Frontend ==> MIL Ops:  98%|▉| 47/48 [00:00<00:00, 2836.07 ops\n",
      "Running MIL frontend_pytorch pipeline: 100%|█| 5/5 [00:00<00:00, 8351.86 passes/\n",
      "Running MIL default pipeline:   0%|                 | 0/56 [00:00<?, ? passes/s]/Users/yaof/anaconda3/envs/CoreML/lib/python3.10/site-packages/coremltools/converters/mil/mil/passes/defs/preprocess.py:262: UserWarning: Output, '97', of the source model, has been renamed to 'var_97' in the Core ML model.\n",
      "  warnings.warn(msg.format(var.name, new_name))\n",
      "Running MIL default pipeline: 100%|██████| 56/56 [00:00<00:00, 1190.20 passes/s]\n",
      "Running MIL backend_neuralnetwork pipeline: 100%|█| 8/8 [00:00<00:00, 12345.27 p\n",
      "Translating MIL ==> NeuralNetwork Ops: 100%|██| 72/72 [00:03<00:00, 22.31 ops/s]\n"
     ]
    },
    {
     "name": "stdout",
     "output_type": "stream",
     "text": [
      "Quantizing using linear quantization\n",
      "Quantizing layer input.3 of type innerProduct\n",
      "Quantizing layer input.5 of type innerProduct\n",
      "Quantizing layer input.7 of type innerProduct\n",
      "Quantizing layer input.9 of type innerProduct\n",
      "Quantizing layer input.11 of type innerProduct\n",
      "Quantizing layer input.13 of type innerProduct\n",
      "Quantizing layer input.15 of type innerProduct\n",
      "Quantizing layer input.17 of type innerProduct\n",
      "Quantizing layer input.19 of type innerProduct\n",
      "Quantizing layer input.21 of type innerProduct\n",
      "Quantizing layer input.23 of type innerProduct\n",
      "Quantizing layer input.25 of type innerProduct\n",
      "Quantizing layer input.27 of type innerProduct\n",
      "Quantizing layer input.29 of type innerProduct\n",
      "Quantizing layer input.31 of type innerProduct\n",
      "Quantizing layer input.33 of type innerProduct\n",
      "Quantizing layer input.35 of type innerProduct\n",
      "Quantizing layer input.37 of type innerProduct\n",
      "Quantizing layer input.39 of type innerProduct\n",
      "Quantizing layer input.41 of type innerProduct\n",
      "Quantizing layer input.43 of type innerProduct\n",
      "Quantizing layer input.45 of type innerProduct\n",
      "Quantizing layer input of type innerProduct\n",
      "Quantizing layer 97 of type innerProduct\n",
      "Quantizing using kmeans quantization\n",
      "Optimizing Neural Network before Quantization:\n",
      "Finished optimizing network. Quantizing neural network..\n",
      "Quantizing layer input.3 of type innerProduct\n"
     ]
    },
    {
     "name": "stderr",
     "output_type": "stream",
     "text": [
      "/Users/yaof/anaconda3/envs/CoreML/lib/python3.10/site-packages/coremltools/models/neural_network/quantization_utils.py:390: ConvergenceWarning: Number of distinct clusters (1) found smaller than n_clusters (256). Possibly due to duplicate points in X.\n",
      "  ).fit(wf)\n"
     ]
    },
    {
     "name": "stdout",
     "output_type": "stream",
     "text": [
      "Quantizing layer input.5 of type innerProduct\n"
     ]
    },
    {
     "name": "stderr",
     "output_type": "stream",
     "text": [
      "/Users/yaof/anaconda3/envs/CoreML/lib/python3.10/site-packages/coremltools/models/neural_network/quantization_utils.py:390: ConvergenceWarning: Number of distinct clusters (1) found smaller than n_clusters (256). Possibly due to duplicate points in X.\n",
      "  ).fit(wf)\n"
     ]
    },
    {
     "name": "stdout",
     "output_type": "stream",
     "text": [
      "Quantizing layer input.7 of type innerProduct\n"
     ]
    },
    {
     "name": "stderr",
     "output_type": "stream",
     "text": [
      "/Users/yaof/anaconda3/envs/CoreML/lib/python3.10/site-packages/coremltools/models/neural_network/quantization_utils.py:390: ConvergenceWarning: Number of distinct clusters (1) found smaller than n_clusters (256). Possibly due to duplicate points in X.\n",
      "  ).fit(wf)\n"
     ]
    },
    {
     "name": "stdout",
     "output_type": "stream",
     "text": [
      "Quantizing layer input.9 of type innerProduct\n"
     ]
    },
    {
     "name": "stderr",
     "output_type": "stream",
     "text": [
      "/Users/yaof/anaconda3/envs/CoreML/lib/python3.10/site-packages/coremltools/models/neural_network/quantization_utils.py:390: ConvergenceWarning: Number of distinct clusters (1) found smaller than n_clusters (256). Possibly due to duplicate points in X.\n",
      "  ).fit(wf)\n"
     ]
    },
    {
     "name": "stdout",
     "output_type": "stream",
     "text": [
      "Quantizing layer input.11 of type innerProduct\n"
     ]
    },
    {
     "name": "stderr",
     "output_type": "stream",
     "text": [
      "/Users/yaof/anaconda3/envs/CoreML/lib/python3.10/site-packages/coremltools/models/neural_network/quantization_utils.py:390: ConvergenceWarning: Number of distinct clusters (1) found smaller than n_clusters (256). Possibly due to duplicate points in X.\n",
      "  ).fit(wf)\n"
     ]
    },
    {
     "name": "stdout",
     "output_type": "stream",
     "text": [
      "Quantizing layer input.13 of type innerProduct\n"
     ]
    },
    {
     "name": "stderr",
     "output_type": "stream",
     "text": [
      "/Users/yaof/anaconda3/envs/CoreML/lib/python3.10/site-packages/coremltools/models/neural_network/quantization_utils.py:390: ConvergenceWarning: Number of distinct clusters (1) found smaller than n_clusters (256). Possibly due to duplicate points in X.\n",
      "  ).fit(wf)\n"
     ]
    },
    {
     "name": "stdout",
     "output_type": "stream",
     "text": [
      "Quantizing layer input.15 of type innerProduct\n"
     ]
    },
    {
     "name": "stderr",
     "output_type": "stream",
     "text": [
      "/Users/yaof/anaconda3/envs/CoreML/lib/python3.10/site-packages/coremltools/models/neural_network/quantization_utils.py:390: ConvergenceWarning: Number of distinct clusters (1) found smaller than n_clusters (256). Possibly due to duplicate points in X.\n",
      "  ).fit(wf)\n"
     ]
    },
    {
     "name": "stdout",
     "output_type": "stream",
     "text": [
      "Quantizing layer input.17 of type innerProduct\n"
     ]
    },
    {
     "name": "stderr",
     "output_type": "stream",
     "text": [
      "/Users/yaof/anaconda3/envs/CoreML/lib/python3.10/site-packages/coremltools/models/neural_network/quantization_utils.py:390: ConvergenceWarning: Number of distinct clusters (1) found smaller than n_clusters (256). Possibly due to duplicate points in X.\n",
      "  ).fit(wf)\n"
     ]
    },
    {
     "name": "stdout",
     "output_type": "stream",
     "text": [
      "Quantizing layer input.19 of type innerProduct\n"
     ]
    },
    {
     "name": "stderr",
     "output_type": "stream",
     "text": [
      "/Users/yaof/anaconda3/envs/CoreML/lib/python3.10/site-packages/coremltools/models/neural_network/quantization_utils.py:390: ConvergenceWarning: Number of distinct clusters (1) found smaller than n_clusters (256). Possibly due to duplicate points in X.\n",
      "  ).fit(wf)\n"
     ]
    },
    {
     "name": "stdout",
     "output_type": "stream",
     "text": [
      "Quantizing layer input.21 of type innerProduct\n"
     ]
    },
    {
     "name": "stderr",
     "output_type": "stream",
     "text": [
      "/Users/yaof/anaconda3/envs/CoreML/lib/python3.10/site-packages/coremltools/models/neural_network/quantization_utils.py:390: ConvergenceWarning: Number of distinct clusters (1) found smaller than n_clusters (256). Possibly due to duplicate points in X.\n",
      "  ).fit(wf)\n"
     ]
    },
    {
     "name": "stdout",
     "output_type": "stream",
     "text": [
      "Quantizing layer input.23 of type innerProduct\n"
     ]
    },
    {
     "name": "stderr",
     "output_type": "stream",
     "text": [
      "/Users/yaof/anaconda3/envs/CoreML/lib/python3.10/site-packages/coremltools/models/neural_network/quantization_utils.py:390: ConvergenceWarning: Number of distinct clusters (1) found smaller than n_clusters (256). Possibly due to duplicate points in X.\n",
      "  ).fit(wf)\n"
     ]
    },
    {
     "name": "stdout",
     "output_type": "stream",
     "text": [
      "Quantizing layer input.25 of type innerProduct\n"
     ]
    },
    {
     "name": "stderr",
     "output_type": "stream",
     "text": [
      "/Users/yaof/anaconda3/envs/CoreML/lib/python3.10/site-packages/coremltools/models/neural_network/quantization_utils.py:390: ConvergenceWarning: Number of distinct clusters (1) found smaller than n_clusters (256). Possibly due to duplicate points in X.\n",
      "  ).fit(wf)\n"
     ]
    },
    {
     "name": "stdout",
     "output_type": "stream",
     "text": [
      "Quantizing layer input.27 of type innerProduct\n"
     ]
    },
    {
     "name": "stderr",
     "output_type": "stream",
     "text": [
      "/Users/yaof/anaconda3/envs/CoreML/lib/python3.10/site-packages/coremltools/models/neural_network/quantization_utils.py:390: ConvergenceWarning: Number of distinct clusters (1) found smaller than n_clusters (256). Possibly due to duplicate points in X.\n",
      "  ).fit(wf)\n"
     ]
    },
    {
     "name": "stdout",
     "output_type": "stream",
     "text": [
      "Quantizing layer input.29 of type innerProduct\n"
     ]
    },
    {
     "name": "stderr",
     "output_type": "stream",
     "text": [
      "/Users/yaof/anaconda3/envs/CoreML/lib/python3.10/site-packages/coremltools/models/neural_network/quantization_utils.py:390: ConvergenceWarning: Number of distinct clusters (1) found smaller than n_clusters (256). Possibly due to duplicate points in X.\n",
      "  ).fit(wf)\n"
     ]
    },
    {
     "name": "stdout",
     "output_type": "stream",
     "text": [
      "Quantizing layer input.31 of type innerProduct\n"
     ]
    },
    {
     "name": "stderr",
     "output_type": "stream",
     "text": [
      "/Users/yaof/anaconda3/envs/CoreML/lib/python3.10/site-packages/coremltools/models/neural_network/quantization_utils.py:390: ConvergenceWarning: Number of distinct clusters (1) found smaller than n_clusters (256). Possibly due to duplicate points in X.\n",
      "  ).fit(wf)\n"
     ]
    },
    {
     "name": "stdout",
     "output_type": "stream",
     "text": [
      "Quantizing layer input.33 of type innerProduct\n"
     ]
    },
    {
     "name": "stderr",
     "output_type": "stream",
     "text": [
      "/Users/yaof/anaconda3/envs/CoreML/lib/python3.10/site-packages/coremltools/models/neural_network/quantization_utils.py:390: ConvergenceWarning: Number of distinct clusters (1) found smaller than n_clusters (256). Possibly due to duplicate points in X.\n",
      "  ).fit(wf)\n"
     ]
    },
    {
     "name": "stdout",
     "output_type": "stream",
     "text": [
      "Quantizing layer input.35 of type innerProduct\n"
     ]
    },
    {
     "name": "stderr",
     "output_type": "stream",
     "text": [
      "/Users/yaof/anaconda3/envs/CoreML/lib/python3.10/site-packages/coremltools/models/neural_network/quantization_utils.py:390: ConvergenceWarning: Number of distinct clusters (1) found smaller than n_clusters (256). Possibly due to duplicate points in X.\n",
      "  ).fit(wf)\n"
     ]
    },
    {
     "name": "stdout",
     "output_type": "stream",
     "text": [
      "Quantizing layer input.37 of type innerProduct\n"
     ]
    },
    {
     "name": "stderr",
     "output_type": "stream",
     "text": [
      "/Users/yaof/anaconda3/envs/CoreML/lib/python3.10/site-packages/coremltools/models/neural_network/quantization_utils.py:390: ConvergenceWarning: Number of distinct clusters (1) found smaller than n_clusters (256). Possibly due to duplicate points in X.\n",
      "  ).fit(wf)\n"
     ]
    },
    {
     "name": "stdout",
     "output_type": "stream",
     "text": [
      "Quantizing layer input.39 of type innerProduct\n"
     ]
    },
    {
     "name": "stderr",
     "output_type": "stream",
     "text": [
      "/Users/yaof/anaconda3/envs/CoreML/lib/python3.10/site-packages/coremltools/models/neural_network/quantization_utils.py:390: ConvergenceWarning: Number of distinct clusters (1) found smaller than n_clusters (256). Possibly due to duplicate points in X.\n",
      "  ).fit(wf)\n"
     ]
    },
    {
     "name": "stdout",
     "output_type": "stream",
     "text": [
      "Quantizing layer input.41 of type innerProduct\n"
     ]
    },
    {
     "name": "stderr",
     "output_type": "stream",
     "text": [
      "/Users/yaof/anaconda3/envs/CoreML/lib/python3.10/site-packages/coremltools/models/neural_network/quantization_utils.py:390: ConvergenceWarning: Number of distinct clusters (1) found smaller than n_clusters (256). Possibly due to duplicate points in X.\n",
      "  ).fit(wf)\n"
     ]
    },
    {
     "name": "stdout",
     "output_type": "stream",
     "text": [
      "Quantizing layer input.43 of type innerProduct\n"
     ]
    },
    {
     "name": "stderr",
     "output_type": "stream",
     "text": [
      "/Users/yaof/anaconda3/envs/CoreML/lib/python3.10/site-packages/coremltools/models/neural_network/quantization_utils.py:390: ConvergenceWarning: Number of distinct clusters (1) found smaller than n_clusters (256). Possibly due to duplicate points in X.\n",
      "  ).fit(wf)\n"
     ]
    },
    {
     "name": "stdout",
     "output_type": "stream",
     "text": [
      "Quantizing layer input.45 of type innerProduct\n"
     ]
    },
    {
     "name": "stderr",
     "output_type": "stream",
     "text": [
      "/Users/yaof/anaconda3/envs/CoreML/lib/python3.10/site-packages/coremltools/models/neural_network/quantization_utils.py:390: ConvergenceWarning: Number of distinct clusters (1) found smaller than n_clusters (256). Possibly due to duplicate points in X.\n",
      "  ).fit(wf)\n"
     ]
    },
    {
     "name": "stdout",
     "output_type": "stream",
     "text": [
      "Quantizing layer input of type innerProduct\n"
     ]
    },
    {
     "name": "stderr",
     "output_type": "stream",
     "text": [
      "/Users/yaof/anaconda3/envs/CoreML/lib/python3.10/site-packages/coremltools/models/neural_network/quantization_utils.py:390: ConvergenceWarning: Number of distinct clusters (1) found smaller than n_clusters (256). Possibly due to duplicate points in X.\n",
      "  ).fit(wf)\n"
     ]
    },
    {
     "name": "stdout",
     "output_type": "stream",
     "text": [
      "Quantizing layer 97 of type innerProduct\n"
     ]
    },
    {
     "name": "stderr",
     "output_type": "stream",
     "text": [
      "/Users/yaof/anaconda3/envs/CoreML/lib/python3.10/site-packages/coremltools/models/neural_network/quantization_utils.py:390: ConvergenceWarning: Number of distinct clusters (1) found smaller than n_clusters (256). Possibly due to duplicate points in X.\n",
      "  ).fit(wf)\n",
      "Converting PyTorch Frontend ==> MIL Ops:  98%|▉| 63/64 [00:00<00:00, 2808.75 ops\n",
      "Running MIL frontend_pytorch pipeline: 100%|█| 5/5 [00:00<00:00, 6784.70 passes/\n",
      "Running MIL default pipeline:   0%|                 | 0/56 [00:00<?, ? passes/s]/Users/yaof/anaconda3/envs/CoreML/lib/python3.10/site-packages/coremltools/converters/mil/mil/passes/defs/preprocess.py:262: UserWarning: Output, '129', of the source model, has been renamed to 'var_129' in the Core ML model.\n",
      "  warnings.warn(msg.format(var.name, new_name))\n",
      "Running MIL default pipeline: 100%|███████| 56/56 [00:00<00:00, 939.47 passes/s]\n",
      "Running MIL backend_neuralnetwork pipeline: 100%|█| 8/8 [00:00<00:00, 9152.87 pa\n",
      "Translating MIL ==> NeuralNetwork Ops: 100%|██| 96/96 [00:04<00:00, 22.21 ops/s]\n"
     ]
    },
    {
     "name": "stdout",
     "output_type": "stream",
     "text": [
      "Quantizing using linear quantization\n",
      "Quantizing layer input.3 of type innerProduct\n",
      "Quantizing layer input.5 of type innerProduct\n",
      "Quantizing layer input.7 of type innerProduct\n",
      "Quantizing layer input.9 of type innerProduct\n",
      "Quantizing layer input.11 of type innerProduct\n",
      "Quantizing layer input.13 of type innerProduct\n",
      "Quantizing layer input.15 of type innerProduct\n",
      "Quantizing layer input.17 of type innerProduct\n",
      "Quantizing layer input.19 of type innerProduct\n",
      "Quantizing layer input.21 of type innerProduct\n",
      "Quantizing layer input.23 of type innerProduct\n",
      "Quantizing layer input.25 of type innerProduct\n",
      "Quantizing layer input.27 of type innerProduct\n",
      "Quantizing layer input.29 of type innerProduct\n",
      "Quantizing layer input.31 of type innerProduct\n",
      "Quantizing layer input.33 of type innerProduct\n",
      "Quantizing layer input.35 of type innerProduct\n",
      "Quantizing layer input.37 of type innerProduct\n",
      "Quantizing layer input.39 of type innerProduct\n",
      "Quantizing layer input.41 of type innerProduct\n",
      "Quantizing layer input.43 of type innerProduct\n",
      "Quantizing layer input.45 of type innerProduct\n",
      "Quantizing layer input.47 of type innerProduct\n",
      "Quantizing layer input.49 of type innerProduct\n",
      "Quantizing layer input.51 of type innerProduct\n",
      "Quantizing layer input.53 of type innerProduct\n",
      "Quantizing layer input.55 of type innerProduct\n",
      "Quantizing layer input.57 of type innerProduct\n",
      "Quantizing layer input.59 of type innerProduct\n",
      "Quantizing layer input.61 of type innerProduct\n",
      "Quantizing layer input of type innerProduct\n",
      "Quantizing layer 129 of type innerProduct\n",
      "Quantizing using kmeans quantization\n",
      "Optimizing Neural Network before Quantization:\n",
      "Finished optimizing network. Quantizing neural network..\n",
      "Quantizing layer input.3 of type innerProduct\n"
     ]
    },
    {
     "name": "stderr",
     "output_type": "stream",
     "text": [
      "/Users/yaof/anaconda3/envs/CoreML/lib/python3.10/site-packages/coremltools/models/neural_network/quantization_utils.py:390: ConvergenceWarning: Number of distinct clusters (1) found smaller than n_clusters (256). Possibly due to duplicate points in X.\n",
      "  ).fit(wf)\n"
     ]
    },
    {
     "name": "stdout",
     "output_type": "stream",
     "text": [
      "Quantizing layer input.5 of type innerProduct\n"
     ]
    },
    {
     "name": "stderr",
     "output_type": "stream",
     "text": [
      "/Users/yaof/anaconda3/envs/CoreML/lib/python3.10/site-packages/coremltools/models/neural_network/quantization_utils.py:390: ConvergenceWarning: Number of distinct clusters (1) found smaller than n_clusters (256). Possibly due to duplicate points in X.\n",
      "  ).fit(wf)\n"
     ]
    },
    {
     "name": "stdout",
     "output_type": "stream",
     "text": [
      "Quantizing layer input.7 of type innerProduct\n"
     ]
    },
    {
     "name": "stderr",
     "output_type": "stream",
     "text": [
      "/Users/yaof/anaconda3/envs/CoreML/lib/python3.10/site-packages/coremltools/models/neural_network/quantization_utils.py:390: ConvergenceWarning: Number of distinct clusters (1) found smaller than n_clusters (256). Possibly due to duplicate points in X.\n",
      "  ).fit(wf)\n"
     ]
    },
    {
     "name": "stdout",
     "output_type": "stream",
     "text": [
      "Quantizing layer input.9 of type innerProduct\n"
     ]
    },
    {
     "name": "stderr",
     "output_type": "stream",
     "text": [
      "/Users/yaof/anaconda3/envs/CoreML/lib/python3.10/site-packages/coremltools/models/neural_network/quantization_utils.py:390: ConvergenceWarning: Number of distinct clusters (1) found smaller than n_clusters (256). Possibly due to duplicate points in X.\n",
      "  ).fit(wf)\n"
     ]
    },
    {
     "name": "stdout",
     "output_type": "stream",
     "text": [
      "Quantizing layer input.11 of type innerProduct\n"
     ]
    },
    {
     "name": "stderr",
     "output_type": "stream",
     "text": [
      "/Users/yaof/anaconda3/envs/CoreML/lib/python3.10/site-packages/coremltools/models/neural_network/quantization_utils.py:390: ConvergenceWarning: Number of distinct clusters (1) found smaller than n_clusters (256). Possibly due to duplicate points in X.\n",
      "  ).fit(wf)\n"
     ]
    },
    {
     "name": "stdout",
     "output_type": "stream",
     "text": [
      "Quantizing layer input.13 of type innerProduct\n"
     ]
    },
    {
     "name": "stderr",
     "output_type": "stream",
     "text": [
      "/Users/yaof/anaconda3/envs/CoreML/lib/python3.10/site-packages/coremltools/models/neural_network/quantization_utils.py:390: ConvergenceWarning: Number of distinct clusters (1) found smaller than n_clusters (256). Possibly due to duplicate points in X.\n",
      "  ).fit(wf)\n"
     ]
    },
    {
     "name": "stdout",
     "output_type": "stream",
     "text": [
      "Quantizing layer input.15 of type innerProduct\n"
     ]
    },
    {
     "name": "stderr",
     "output_type": "stream",
     "text": [
      "/Users/yaof/anaconda3/envs/CoreML/lib/python3.10/site-packages/coremltools/models/neural_network/quantization_utils.py:390: ConvergenceWarning: Number of distinct clusters (1) found smaller than n_clusters (256). Possibly due to duplicate points in X.\n",
      "  ).fit(wf)\n"
     ]
    },
    {
     "name": "stdout",
     "output_type": "stream",
     "text": [
      "Quantizing layer input.17 of type innerProduct\n"
     ]
    },
    {
     "name": "stderr",
     "output_type": "stream",
     "text": [
      "/Users/yaof/anaconda3/envs/CoreML/lib/python3.10/site-packages/coremltools/models/neural_network/quantization_utils.py:390: ConvergenceWarning: Number of distinct clusters (1) found smaller than n_clusters (256). Possibly due to duplicate points in X.\n",
      "  ).fit(wf)\n"
     ]
    },
    {
     "name": "stdout",
     "output_type": "stream",
     "text": [
      "Quantizing layer input.19 of type innerProduct\n"
     ]
    },
    {
     "name": "stderr",
     "output_type": "stream",
     "text": [
      "/Users/yaof/anaconda3/envs/CoreML/lib/python3.10/site-packages/coremltools/models/neural_network/quantization_utils.py:390: ConvergenceWarning: Number of distinct clusters (1) found smaller than n_clusters (256). Possibly due to duplicate points in X.\n",
      "  ).fit(wf)\n"
     ]
    },
    {
     "name": "stdout",
     "output_type": "stream",
     "text": [
      "Quantizing layer input.21 of type innerProduct\n"
     ]
    },
    {
     "name": "stderr",
     "output_type": "stream",
     "text": [
      "/Users/yaof/anaconda3/envs/CoreML/lib/python3.10/site-packages/coremltools/models/neural_network/quantization_utils.py:390: ConvergenceWarning: Number of distinct clusters (1) found smaller than n_clusters (256). Possibly due to duplicate points in X.\n",
      "  ).fit(wf)\n"
     ]
    },
    {
     "name": "stdout",
     "output_type": "stream",
     "text": [
      "Quantizing layer input.23 of type innerProduct\n"
     ]
    },
    {
     "name": "stderr",
     "output_type": "stream",
     "text": [
      "/Users/yaof/anaconda3/envs/CoreML/lib/python3.10/site-packages/coremltools/models/neural_network/quantization_utils.py:390: ConvergenceWarning: Number of distinct clusters (1) found smaller than n_clusters (256). Possibly due to duplicate points in X.\n",
      "  ).fit(wf)\n"
     ]
    },
    {
     "name": "stdout",
     "output_type": "stream",
     "text": [
      "Quantizing layer input.25 of type innerProduct\n"
     ]
    },
    {
     "name": "stderr",
     "output_type": "stream",
     "text": [
      "/Users/yaof/anaconda3/envs/CoreML/lib/python3.10/site-packages/coremltools/models/neural_network/quantization_utils.py:390: ConvergenceWarning: Number of distinct clusters (1) found smaller than n_clusters (256). Possibly due to duplicate points in X.\n",
      "  ).fit(wf)\n"
     ]
    },
    {
     "name": "stdout",
     "output_type": "stream",
     "text": [
      "Quantizing layer input.27 of type innerProduct\n"
     ]
    },
    {
     "name": "stderr",
     "output_type": "stream",
     "text": [
      "/Users/yaof/anaconda3/envs/CoreML/lib/python3.10/site-packages/coremltools/models/neural_network/quantization_utils.py:390: ConvergenceWarning: Number of distinct clusters (1) found smaller than n_clusters (256). Possibly due to duplicate points in X.\n",
      "  ).fit(wf)\n"
     ]
    },
    {
     "name": "stdout",
     "output_type": "stream",
     "text": [
      "Quantizing layer input.29 of type innerProduct\n"
     ]
    },
    {
     "name": "stderr",
     "output_type": "stream",
     "text": [
      "/Users/yaof/anaconda3/envs/CoreML/lib/python3.10/site-packages/coremltools/models/neural_network/quantization_utils.py:390: ConvergenceWarning: Number of distinct clusters (1) found smaller than n_clusters (256). Possibly due to duplicate points in X.\n",
      "  ).fit(wf)\n"
     ]
    },
    {
     "name": "stdout",
     "output_type": "stream",
     "text": [
      "Quantizing layer input.31 of type innerProduct\n"
     ]
    },
    {
     "name": "stderr",
     "output_type": "stream",
     "text": [
      "/Users/yaof/anaconda3/envs/CoreML/lib/python3.10/site-packages/coremltools/models/neural_network/quantization_utils.py:390: ConvergenceWarning: Number of distinct clusters (1) found smaller than n_clusters (256). Possibly due to duplicate points in X.\n",
      "  ).fit(wf)\n"
     ]
    },
    {
     "name": "stdout",
     "output_type": "stream",
     "text": [
      "Quantizing layer input.33 of type innerProduct\n"
     ]
    },
    {
     "name": "stderr",
     "output_type": "stream",
     "text": [
      "/Users/yaof/anaconda3/envs/CoreML/lib/python3.10/site-packages/coremltools/models/neural_network/quantization_utils.py:390: ConvergenceWarning: Number of distinct clusters (1) found smaller than n_clusters (256). Possibly due to duplicate points in X.\n",
      "  ).fit(wf)\n"
     ]
    },
    {
     "name": "stdout",
     "output_type": "stream",
     "text": [
      "Quantizing layer input.35 of type innerProduct\n"
     ]
    },
    {
     "name": "stderr",
     "output_type": "stream",
     "text": [
      "/Users/yaof/anaconda3/envs/CoreML/lib/python3.10/site-packages/coremltools/models/neural_network/quantization_utils.py:390: ConvergenceWarning: Number of distinct clusters (1) found smaller than n_clusters (256). Possibly due to duplicate points in X.\n",
      "  ).fit(wf)\n"
     ]
    },
    {
     "name": "stdout",
     "output_type": "stream",
     "text": [
      "Quantizing layer input.37 of type innerProduct\n"
     ]
    },
    {
     "name": "stderr",
     "output_type": "stream",
     "text": [
      "/Users/yaof/anaconda3/envs/CoreML/lib/python3.10/site-packages/coremltools/models/neural_network/quantization_utils.py:390: ConvergenceWarning: Number of distinct clusters (1) found smaller than n_clusters (256). Possibly due to duplicate points in X.\n",
      "  ).fit(wf)\n"
     ]
    },
    {
     "name": "stdout",
     "output_type": "stream",
     "text": [
      "Quantizing layer input.39 of type innerProduct\n"
     ]
    },
    {
     "name": "stderr",
     "output_type": "stream",
     "text": [
      "/Users/yaof/anaconda3/envs/CoreML/lib/python3.10/site-packages/coremltools/models/neural_network/quantization_utils.py:390: ConvergenceWarning: Number of distinct clusters (1) found smaller than n_clusters (256). Possibly due to duplicate points in X.\n",
      "  ).fit(wf)\n"
     ]
    },
    {
     "name": "stdout",
     "output_type": "stream",
     "text": [
      "Quantizing layer input.41 of type innerProduct\n"
     ]
    },
    {
     "name": "stderr",
     "output_type": "stream",
     "text": [
      "/Users/yaof/anaconda3/envs/CoreML/lib/python3.10/site-packages/coremltools/models/neural_network/quantization_utils.py:390: ConvergenceWarning: Number of distinct clusters (1) found smaller than n_clusters (256). Possibly due to duplicate points in X.\n",
      "  ).fit(wf)\n"
     ]
    },
    {
     "name": "stdout",
     "output_type": "stream",
     "text": [
      "Quantizing layer input.43 of type innerProduct\n"
     ]
    },
    {
     "name": "stderr",
     "output_type": "stream",
     "text": [
      "/Users/yaof/anaconda3/envs/CoreML/lib/python3.10/site-packages/coremltools/models/neural_network/quantization_utils.py:390: ConvergenceWarning: Number of distinct clusters (1) found smaller than n_clusters (256). Possibly due to duplicate points in X.\n",
      "  ).fit(wf)\n"
     ]
    },
    {
     "name": "stdout",
     "output_type": "stream",
     "text": [
      "Quantizing layer input.45 of type innerProduct\n"
     ]
    },
    {
     "name": "stderr",
     "output_type": "stream",
     "text": [
      "/Users/yaof/anaconda3/envs/CoreML/lib/python3.10/site-packages/coremltools/models/neural_network/quantization_utils.py:390: ConvergenceWarning: Number of distinct clusters (1) found smaller than n_clusters (256). Possibly due to duplicate points in X.\n",
      "  ).fit(wf)\n"
     ]
    },
    {
     "name": "stdout",
     "output_type": "stream",
     "text": [
      "Quantizing layer input.47 of type innerProduct\n"
     ]
    },
    {
     "name": "stderr",
     "output_type": "stream",
     "text": [
      "/Users/yaof/anaconda3/envs/CoreML/lib/python3.10/site-packages/coremltools/models/neural_network/quantization_utils.py:390: ConvergenceWarning: Number of distinct clusters (1) found smaller than n_clusters (256). Possibly due to duplicate points in X.\n",
      "  ).fit(wf)\n"
     ]
    },
    {
     "name": "stdout",
     "output_type": "stream",
     "text": [
      "Quantizing layer input.49 of type innerProduct\n"
     ]
    },
    {
     "name": "stderr",
     "output_type": "stream",
     "text": [
      "/Users/yaof/anaconda3/envs/CoreML/lib/python3.10/site-packages/coremltools/models/neural_network/quantization_utils.py:390: ConvergenceWarning: Number of distinct clusters (1) found smaller than n_clusters (256). Possibly due to duplicate points in X.\n",
      "  ).fit(wf)\n"
     ]
    },
    {
     "name": "stdout",
     "output_type": "stream",
     "text": [
      "Quantizing layer input.51 of type innerProduct\n"
     ]
    },
    {
     "name": "stderr",
     "output_type": "stream",
     "text": [
      "/Users/yaof/anaconda3/envs/CoreML/lib/python3.10/site-packages/coremltools/models/neural_network/quantization_utils.py:390: ConvergenceWarning: Number of distinct clusters (1) found smaller than n_clusters (256). Possibly due to duplicate points in X.\n",
      "  ).fit(wf)\n"
     ]
    },
    {
     "name": "stdout",
     "output_type": "stream",
     "text": [
      "Quantizing layer input.53 of type innerProduct\n"
     ]
    },
    {
     "name": "stderr",
     "output_type": "stream",
     "text": [
      "/Users/yaof/anaconda3/envs/CoreML/lib/python3.10/site-packages/coremltools/models/neural_network/quantization_utils.py:390: ConvergenceWarning: Number of distinct clusters (1) found smaller than n_clusters (256). Possibly due to duplicate points in X.\n",
      "  ).fit(wf)\n"
     ]
    },
    {
     "name": "stdout",
     "output_type": "stream",
     "text": [
      "Quantizing layer input.55 of type innerProduct\n"
     ]
    },
    {
     "name": "stderr",
     "output_type": "stream",
     "text": [
      "/Users/yaof/anaconda3/envs/CoreML/lib/python3.10/site-packages/coremltools/models/neural_network/quantization_utils.py:390: ConvergenceWarning: Number of distinct clusters (1) found smaller than n_clusters (256). Possibly due to duplicate points in X.\n",
      "  ).fit(wf)\n"
     ]
    },
    {
     "name": "stdout",
     "output_type": "stream",
     "text": [
      "Quantizing layer input.57 of type innerProduct\n"
     ]
    },
    {
     "name": "stderr",
     "output_type": "stream",
     "text": [
      "/Users/yaof/anaconda3/envs/CoreML/lib/python3.10/site-packages/coremltools/models/neural_network/quantization_utils.py:390: ConvergenceWarning: Number of distinct clusters (1) found smaller than n_clusters (256). Possibly due to duplicate points in X.\n",
      "  ).fit(wf)\n"
     ]
    },
    {
     "name": "stdout",
     "output_type": "stream",
     "text": [
      "Quantizing layer input.59 of type innerProduct\n"
     ]
    },
    {
     "name": "stderr",
     "output_type": "stream",
     "text": [
      "/Users/yaof/anaconda3/envs/CoreML/lib/python3.10/site-packages/coremltools/models/neural_network/quantization_utils.py:390: ConvergenceWarning: Number of distinct clusters (1) found smaller than n_clusters (256). Possibly due to duplicate points in X.\n",
      "  ).fit(wf)\n"
     ]
    },
    {
     "name": "stdout",
     "output_type": "stream",
     "text": [
      "Quantizing layer input.61 of type innerProduct\n"
     ]
    },
    {
     "name": "stderr",
     "output_type": "stream",
     "text": [
      "/Users/yaof/anaconda3/envs/CoreML/lib/python3.10/site-packages/coremltools/models/neural_network/quantization_utils.py:390: ConvergenceWarning: Number of distinct clusters (1) found smaller than n_clusters (256). Possibly due to duplicate points in X.\n",
      "  ).fit(wf)\n"
     ]
    },
    {
     "name": "stdout",
     "output_type": "stream",
     "text": [
      "Quantizing layer input of type innerProduct\n"
     ]
    },
    {
     "name": "stderr",
     "output_type": "stream",
     "text": [
      "/Users/yaof/anaconda3/envs/CoreML/lib/python3.10/site-packages/coremltools/models/neural_network/quantization_utils.py:390: ConvergenceWarning: Number of distinct clusters (1) found smaller than n_clusters (256). Possibly due to duplicate points in X.\n",
      "  ).fit(wf)\n"
     ]
    },
    {
     "name": "stdout",
     "output_type": "stream",
     "text": [
      "Quantizing layer 129 of type innerProduct\n"
     ]
    },
    {
     "name": "stderr",
     "output_type": "stream",
     "text": [
      "/Users/yaof/anaconda3/envs/CoreML/lib/python3.10/site-packages/coremltools/models/neural_network/quantization_utils.py:390: ConvergenceWarning: Number of distinct clusters (1) found smaller than n_clusters (256). Possibly due to duplicate points in X.\n",
      "  ).fit(wf)\n",
      "Converting PyTorch Frontend ==> MIL Ops:  94%|▉| 15/16 [00:00<00:00, 1550.04 ops\n",
      "Running MIL frontend_pytorch pipeline: 100%|█| 5/5 [00:00<00:00, 15196.75 passes\n",
      "Running MIL default pipeline:   0%|                 | 0/56 [00:00<?, ? passes/s]/Users/yaof/anaconda3/envs/CoreML/lib/python3.10/site-packages/coremltools/converters/mil/mil/passes/defs/preprocess.py:262: UserWarning: Output, '33', of the source model, has been renamed to 'var_33' in the Core ML model.\n",
      "  warnings.warn(msg.format(var.name, new_name))\n",
      "Running MIL default pipeline: 100%|██████| 56/56 [00:00<00:00, 1794.75 passes/s]\n",
      "Running MIL backend_neuralnetwork pipeline: 100%|█| 8/8 [00:00<00:00, 31506.51 p\n",
      "Translating MIL ==> NeuralNetwork Ops: 100%|██| 24/24 [00:04<00:00,  5.55 ops/s]\n"
     ]
    },
    {
     "name": "stdout",
     "output_type": "stream",
     "text": [
      "Quantizing using linear quantization\n",
      "Quantizing layer input.3 of type innerProduct\n",
      "Quantizing layer input.5 of type innerProduct\n",
      "Quantizing layer input.7 of type innerProduct\n",
      "Quantizing layer input.9 of type innerProduct\n",
      "Quantizing layer input.11 of type innerProduct\n",
      "Quantizing layer input.13 of type innerProduct\n",
      "Quantizing layer input of type innerProduct\n",
      "Quantizing layer 33 of type innerProduct\n",
      "Quantizing using kmeans quantization\n",
      "Optimizing Neural Network before Quantization:\n",
      "Finished optimizing network. Quantizing neural network..\n",
      "Quantizing layer input.3 of type innerProduct\n"
     ]
    },
    {
     "name": "stderr",
     "output_type": "stream",
     "text": [
      "/Users/yaof/anaconda3/envs/CoreML/lib/python3.10/site-packages/coremltools/models/neural_network/quantization_utils.py:390: ConvergenceWarning: Number of distinct clusters (1) found smaller than n_clusters (256). Possibly due to duplicate points in X.\n",
      "  ).fit(wf)\n"
     ]
    },
    {
     "name": "stdout",
     "output_type": "stream",
     "text": [
      "Quantizing layer input.5 of type innerProduct\n"
     ]
    },
    {
     "name": "stderr",
     "output_type": "stream",
     "text": [
      "/Users/yaof/anaconda3/envs/CoreML/lib/python3.10/site-packages/coremltools/models/neural_network/quantization_utils.py:390: ConvergenceWarning: Number of distinct clusters (1) found smaller than n_clusters (256). Possibly due to duplicate points in X.\n",
      "  ).fit(wf)\n"
     ]
    },
    {
     "name": "stdout",
     "output_type": "stream",
     "text": [
      "Quantizing layer input.7 of type innerProduct\n"
     ]
    },
    {
     "name": "stderr",
     "output_type": "stream",
     "text": [
      "/Users/yaof/anaconda3/envs/CoreML/lib/python3.10/site-packages/coremltools/models/neural_network/quantization_utils.py:390: ConvergenceWarning: Number of distinct clusters (1) found smaller than n_clusters (256). Possibly due to duplicate points in X.\n",
      "  ).fit(wf)\n"
     ]
    },
    {
     "name": "stdout",
     "output_type": "stream",
     "text": [
      "Quantizing layer input.9 of type innerProduct\n"
     ]
    },
    {
     "name": "stderr",
     "output_type": "stream",
     "text": [
      "/Users/yaof/anaconda3/envs/CoreML/lib/python3.10/site-packages/coremltools/models/neural_network/quantization_utils.py:390: ConvergenceWarning: Number of distinct clusters (1) found smaller than n_clusters (256). Possibly due to duplicate points in X.\n",
      "  ).fit(wf)\n"
     ]
    },
    {
     "name": "stdout",
     "output_type": "stream",
     "text": [
      "Quantizing layer input.11 of type innerProduct\n"
     ]
    },
    {
     "name": "stderr",
     "output_type": "stream",
     "text": [
      "/Users/yaof/anaconda3/envs/CoreML/lib/python3.10/site-packages/coremltools/models/neural_network/quantization_utils.py:390: ConvergenceWarning: Number of distinct clusters (1) found smaller than n_clusters (256). Possibly due to duplicate points in X.\n",
      "  ).fit(wf)\n"
     ]
    },
    {
     "name": "stdout",
     "output_type": "stream",
     "text": [
      "Quantizing layer input.13 of type innerProduct\n"
     ]
    },
    {
     "name": "stderr",
     "output_type": "stream",
     "text": [
      "/Users/yaof/anaconda3/envs/CoreML/lib/python3.10/site-packages/coremltools/models/neural_network/quantization_utils.py:390: ConvergenceWarning: Number of distinct clusters (1) found smaller than n_clusters (256). Possibly due to duplicate points in X.\n",
      "  ).fit(wf)\n"
     ]
    },
    {
     "name": "stdout",
     "output_type": "stream",
     "text": [
      "Quantizing layer input of type innerProduct\n"
     ]
    },
    {
     "name": "stderr",
     "output_type": "stream",
     "text": [
      "/Users/yaof/anaconda3/envs/CoreML/lib/python3.10/site-packages/coremltools/models/neural_network/quantization_utils.py:390: ConvergenceWarning: Number of distinct clusters (1) found smaller than n_clusters (256). Possibly due to duplicate points in X.\n",
      "  ).fit(wf)\n"
     ]
    },
    {
     "name": "stdout",
     "output_type": "stream",
     "text": [
      "Quantizing layer 33 of type innerProduct\n"
     ]
    },
    {
     "name": "stderr",
     "output_type": "stream",
     "text": [
      "/Users/yaof/anaconda3/envs/CoreML/lib/python3.10/site-packages/coremltools/models/neural_network/quantization_utils.py:390: ConvergenceWarning: Number of distinct clusters (1) found smaller than n_clusters (256). Possibly due to duplicate points in X.\n",
      "  ).fit(wf)\n",
      "Converting PyTorch Frontend ==> MIL Ops:  97%|▉| 31/32 [00:00<00:00, 1561.17 ops\n",
      "Running MIL frontend_pytorch pipeline: 100%|█| 5/5 [00:00<00:00, 10968.37 passes\n",
      "Running MIL default pipeline:   0%|                 | 0/56 [00:00<?, ? passes/s]/Users/yaof/anaconda3/envs/CoreML/lib/python3.10/site-packages/coremltools/converters/mil/mil/passes/defs/preprocess.py:262: UserWarning: Output, '65', of the source model, has been renamed to 'var_65' in the Core ML model.\n",
      "  warnings.warn(msg.format(var.name, new_name))\n",
      "Running MIL default pipeline: 100%|██████| 56/56 [00:00<00:00, 1030.03 passes/s]\n",
      "Running MIL backend_neuralnetwork pipeline: 100%|█| 8/8 [00:00<00:00, 14438.22 p\n",
      "Translating MIL ==> NeuralNetwork Ops: 100%|██| 48/48 [00:08<00:00,  5.61 ops/s]\n"
     ]
    },
    {
     "name": "stdout",
     "output_type": "stream",
     "text": [
      "Quantizing using linear quantization\n",
      "Quantizing layer input.3 of type innerProduct\n",
      "Quantizing layer input.5 of type innerProduct\n",
      "Quantizing layer input.7 of type innerProduct\n",
      "Quantizing layer input.9 of type innerProduct\n",
      "Quantizing layer input.11 of type innerProduct\n",
      "Quantizing layer input.13 of type innerProduct\n",
      "Quantizing layer input.15 of type innerProduct\n",
      "Quantizing layer input.17 of type innerProduct\n",
      "Quantizing layer input.19 of type innerProduct\n",
      "Quantizing layer input.21 of type innerProduct\n",
      "Quantizing layer input.23 of type innerProduct\n",
      "Quantizing layer input.25 of type innerProduct\n",
      "Quantizing layer input.27 of type innerProduct\n",
      "Quantizing layer input.29 of type innerProduct\n",
      "Quantizing layer input of type innerProduct\n",
      "Quantizing layer 65 of type innerProduct\n",
      "Quantizing using kmeans quantization\n",
      "Optimizing Neural Network before Quantization:\n",
      "Finished optimizing network. Quantizing neural network..\n",
      "Quantizing layer input.3 of type innerProduct\n"
     ]
    },
    {
     "name": "stderr",
     "output_type": "stream",
     "text": [
      "/Users/yaof/anaconda3/envs/CoreML/lib/python3.10/site-packages/coremltools/models/neural_network/quantization_utils.py:390: ConvergenceWarning: Number of distinct clusters (1) found smaller than n_clusters (256). Possibly due to duplicate points in X.\n",
      "  ).fit(wf)\n"
     ]
    },
    {
     "name": "stdout",
     "output_type": "stream",
     "text": [
      "Quantizing layer input.5 of type innerProduct\n"
     ]
    },
    {
     "name": "stderr",
     "output_type": "stream",
     "text": [
      "/Users/yaof/anaconda3/envs/CoreML/lib/python3.10/site-packages/coremltools/models/neural_network/quantization_utils.py:390: ConvergenceWarning: Number of distinct clusters (1) found smaller than n_clusters (256). Possibly due to duplicate points in X.\n",
      "  ).fit(wf)\n"
     ]
    },
    {
     "name": "stdout",
     "output_type": "stream",
     "text": [
      "Quantizing layer input.7 of type innerProduct\n"
     ]
    },
    {
     "name": "stderr",
     "output_type": "stream",
     "text": [
      "/Users/yaof/anaconda3/envs/CoreML/lib/python3.10/site-packages/coremltools/models/neural_network/quantization_utils.py:390: ConvergenceWarning: Number of distinct clusters (1) found smaller than n_clusters (256). Possibly due to duplicate points in X.\n",
      "  ).fit(wf)\n"
     ]
    },
    {
     "name": "stdout",
     "output_type": "stream",
     "text": [
      "Quantizing layer input.9 of type innerProduct\n"
     ]
    },
    {
     "name": "stderr",
     "output_type": "stream",
     "text": [
      "/Users/yaof/anaconda3/envs/CoreML/lib/python3.10/site-packages/coremltools/models/neural_network/quantization_utils.py:390: ConvergenceWarning: Number of distinct clusters (1) found smaller than n_clusters (256). Possibly due to duplicate points in X.\n",
      "  ).fit(wf)\n"
     ]
    },
    {
     "name": "stdout",
     "output_type": "stream",
     "text": [
      "Quantizing layer input.11 of type innerProduct\n"
     ]
    },
    {
     "name": "stderr",
     "output_type": "stream",
     "text": [
      "/Users/yaof/anaconda3/envs/CoreML/lib/python3.10/site-packages/coremltools/models/neural_network/quantization_utils.py:390: ConvergenceWarning: Number of distinct clusters (1) found smaller than n_clusters (256). Possibly due to duplicate points in X.\n",
      "  ).fit(wf)\n"
     ]
    },
    {
     "name": "stdout",
     "output_type": "stream",
     "text": [
      "Quantizing layer input.13 of type innerProduct\n"
     ]
    },
    {
     "name": "stderr",
     "output_type": "stream",
     "text": [
      "/Users/yaof/anaconda3/envs/CoreML/lib/python3.10/site-packages/coremltools/models/neural_network/quantization_utils.py:390: ConvergenceWarning: Number of distinct clusters (1) found smaller than n_clusters (256). Possibly due to duplicate points in X.\n",
      "  ).fit(wf)\n"
     ]
    },
    {
     "name": "stdout",
     "output_type": "stream",
     "text": [
      "Quantizing layer input.15 of type innerProduct\n"
     ]
    },
    {
     "name": "stderr",
     "output_type": "stream",
     "text": [
      "/Users/yaof/anaconda3/envs/CoreML/lib/python3.10/site-packages/coremltools/models/neural_network/quantization_utils.py:390: ConvergenceWarning: Number of distinct clusters (1) found smaller than n_clusters (256). Possibly due to duplicate points in X.\n",
      "  ).fit(wf)\n"
     ]
    },
    {
     "name": "stdout",
     "output_type": "stream",
     "text": [
      "Quantizing layer input.17 of type innerProduct\n"
     ]
    },
    {
     "name": "stderr",
     "output_type": "stream",
     "text": [
      "/Users/yaof/anaconda3/envs/CoreML/lib/python3.10/site-packages/coremltools/models/neural_network/quantization_utils.py:390: ConvergenceWarning: Number of distinct clusters (1) found smaller than n_clusters (256). Possibly due to duplicate points in X.\n",
      "  ).fit(wf)\n"
     ]
    },
    {
     "name": "stdout",
     "output_type": "stream",
     "text": [
      "Quantizing layer input.19 of type innerProduct\n"
     ]
    },
    {
     "name": "stderr",
     "output_type": "stream",
     "text": [
      "/Users/yaof/anaconda3/envs/CoreML/lib/python3.10/site-packages/coremltools/models/neural_network/quantization_utils.py:390: ConvergenceWarning: Number of distinct clusters (1) found smaller than n_clusters (256). Possibly due to duplicate points in X.\n",
      "  ).fit(wf)\n"
     ]
    },
    {
     "name": "stdout",
     "output_type": "stream",
     "text": [
      "Quantizing layer input.21 of type innerProduct\n"
     ]
    },
    {
     "name": "stderr",
     "output_type": "stream",
     "text": [
      "/Users/yaof/anaconda3/envs/CoreML/lib/python3.10/site-packages/coremltools/models/neural_network/quantization_utils.py:390: ConvergenceWarning: Number of distinct clusters (1) found smaller than n_clusters (256). Possibly due to duplicate points in X.\n",
      "  ).fit(wf)\n"
     ]
    },
    {
     "name": "stdout",
     "output_type": "stream",
     "text": [
      "Quantizing layer input.23 of type innerProduct\n"
     ]
    },
    {
     "name": "stderr",
     "output_type": "stream",
     "text": [
      "/Users/yaof/anaconda3/envs/CoreML/lib/python3.10/site-packages/coremltools/models/neural_network/quantization_utils.py:390: ConvergenceWarning: Number of distinct clusters (1) found smaller than n_clusters (256). Possibly due to duplicate points in X.\n",
      "  ).fit(wf)\n"
     ]
    },
    {
     "name": "stdout",
     "output_type": "stream",
     "text": [
      "Quantizing layer input.25 of type innerProduct\n"
     ]
    },
    {
     "name": "stderr",
     "output_type": "stream",
     "text": [
      "/Users/yaof/anaconda3/envs/CoreML/lib/python3.10/site-packages/coremltools/models/neural_network/quantization_utils.py:390: ConvergenceWarning: Number of distinct clusters (1) found smaller than n_clusters (256). Possibly due to duplicate points in X.\n",
      "  ).fit(wf)\n"
     ]
    },
    {
     "name": "stdout",
     "output_type": "stream",
     "text": [
      "Quantizing layer input.27 of type innerProduct\n"
     ]
    },
    {
     "name": "stderr",
     "output_type": "stream",
     "text": [
      "/Users/yaof/anaconda3/envs/CoreML/lib/python3.10/site-packages/coremltools/models/neural_network/quantization_utils.py:390: ConvergenceWarning: Number of distinct clusters (1) found smaller than n_clusters (256). Possibly due to duplicate points in X.\n",
      "  ).fit(wf)\n"
     ]
    },
    {
     "name": "stdout",
     "output_type": "stream",
     "text": [
      "Quantizing layer input.29 of type innerProduct\n"
     ]
    },
    {
     "name": "stderr",
     "output_type": "stream",
     "text": [
      "/Users/yaof/anaconda3/envs/CoreML/lib/python3.10/site-packages/coremltools/models/neural_network/quantization_utils.py:390: ConvergenceWarning: Number of distinct clusters (1) found smaller than n_clusters (256). Possibly due to duplicate points in X.\n",
      "  ).fit(wf)\n"
     ]
    },
    {
     "name": "stdout",
     "output_type": "stream",
     "text": [
      "Quantizing layer input of type innerProduct\n"
     ]
    },
    {
     "name": "stderr",
     "output_type": "stream",
     "text": [
      "/Users/yaof/anaconda3/envs/CoreML/lib/python3.10/site-packages/coremltools/models/neural_network/quantization_utils.py:390: ConvergenceWarning: Number of distinct clusters (1) found smaller than n_clusters (256). Possibly due to duplicate points in X.\n",
      "  ).fit(wf)\n"
     ]
    },
    {
     "name": "stdout",
     "output_type": "stream",
     "text": [
      "Quantizing layer 65 of type innerProduct\n"
     ]
    },
    {
     "name": "stderr",
     "output_type": "stream",
     "text": [
      "/Users/yaof/anaconda3/envs/CoreML/lib/python3.10/site-packages/coremltools/models/neural_network/quantization_utils.py:390: ConvergenceWarning: Number of distinct clusters (1) found smaller than n_clusters (256). Possibly due to duplicate points in X.\n",
      "  ).fit(wf)\n",
      "Converting PyTorch Frontend ==> MIL Ops:  98%|▉| 47/48 [00:00<00:00, 1604.70 ops\n",
      "Running MIL frontend_pytorch pipeline: 100%|█| 5/5 [00:00<00:00, 8415.54 passes/\n",
      "Running MIL default pipeline:   0%|                 | 0/56 [00:00<?, ? passes/s]/Users/yaof/anaconda3/envs/CoreML/lib/python3.10/site-packages/coremltools/converters/mil/mil/passes/defs/preprocess.py:262: UserWarning: Output, '97', of the source model, has been renamed to 'var_97' in the Core ML model.\n",
      "  warnings.warn(msg.format(var.name, new_name))\n",
      "Running MIL default pipeline: 100%|███████| 56/56 [00:00<00:00, 728.33 passes/s]\n",
      "Running MIL backend_neuralnetwork pipeline: 100%|█| 8/8 [00:00<00:00, 12777.77 p\n",
      "Translating MIL ==> NeuralNetwork Ops: 100%|██| 72/72 [00:12<00:00,  5.60 ops/s]\n"
     ]
    },
    {
     "name": "stdout",
     "output_type": "stream",
     "text": [
      "Quantizing using linear quantization\n",
      "Quantizing layer input.3 of type innerProduct\n",
      "Quantizing layer input.5 of type innerProduct\n",
      "Quantizing layer input.7 of type innerProduct\n",
      "Quantizing layer input.9 of type innerProduct\n",
      "Quantizing layer input.11 of type innerProduct\n",
      "Quantizing layer input.13 of type innerProduct\n",
      "Quantizing layer input.15 of type innerProduct\n",
      "Quantizing layer input.17 of type innerProduct\n",
      "Quantizing layer input.19 of type innerProduct\n",
      "Quantizing layer input.21 of type innerProduct\n",
      "Quantizing layer input.23 of type innerProduct\n",
      "Quantizing layer input.25 of type innerProduct\n",
      "Quantizing layer input.27 of type innerProduct\n",
      "Quantizing layer input.29 of type innerProduct\n",
      "Quantizing layer input.31 of type innerProduct\n",
      "Quantizing layer input.33 of type innerProduct\n",
      "Quantizing layer input.35 of type innerProduct\n",
      "Quantizing layer input.37 of type innerProduct\n",
      "Quantizing layer input.39 of type innerProduct\n",
      "Quantizing layer input.41 of type innerProduct\n",
      "Quantizing layer input.43 of type innerProduct\n",
      "Quantizing layer input.45 of type innerProduct\n",
      "Quantizing layer input of type innerProduct\n",
      "Quantizing layer 97 of type innerProduct\n",
      "Quantizing using kmeans quantization\n",
      "Optimizing Neural Network before Quantization:\n",
      "Finished optimizing network. Quantizing neural network..\n",
      "Quantizing layer input.3 of type innerProduct\n"
     ]
    },
    {
     "name": "stderr",
     "output_type": "stream",
     "text": [
      "/Users/yaof/anaconda3/envs/CoreML/lib/python3.10/site-packages/coremltools/models/neural_network/quantization_utils.py:390: ConvergenceWarning: Number of distinct clusters (1) found smaller than n_clusters (256). Possibly due to duplicate points in X.\n",
      "  ).fit(wf)\n"
     ]
    },
    {
     "name": "stdout",
     "output_type": "stream",
     "text": [
      "Quantizing layer input.5 of type innerProduct\n"
     ]
    },
    {
     "name": "stderr",
     "output_type": "stream",
     "text": [
      "/Users/yaof/anaconda3/envs/CoreML/lib/python3.10/site-packages/coremltools/models/neural_network/quantization_utils.py:390: ConvergenceWarning: Number of distinct clusters (1) found smaller than n_clusters (256). Possibly due to duplicate points in X.\n",
      "  ).fit(wf)\n"
     ]
    },
    {
     "name": "stdout",
     "output_type": "stream",
     "text": [
      "Quantizing layer input.7 of type innerProduct\n"
     ]
    },
    {
     "name": "stderr",
     "output_type": "stream",
     "text": [
      "/Users/yaof/anaconda3/envs/CoreML/lib/python3.10/site-packages/coremltools/models/neural_network/quantization_utils.py:390: ConvergenceWarning: Number of distinct clusters (1) found smaller than n_clusters (256). Possibly due to duplicate points in X.\n",
      "  ).fit(wf)\n"
     ]
    },
    {
     "name": "stdout",
     "output_type": "stream",
     "text": [
      "Quantizing layer input.9 of type innerProduct\n"
     ]
    },
    {
     "name": "stderr",
     "output_type": "stream",
     "text": [
      "/Users/yaof/anaconda3/envs/CoreML/lib/python3.10/site-packages/coremltools/models/neural_network/quantization_utils.py:390: ConvergenceWarning: Number of distinct clusters (1) found smaller than n_clusters (256). Possibly due to duplicate points in X.\n",
      "  ).fit(wf)\n"
     ]
    },
    {
     "name": "stdout",
     "output_type": "stream",
     "text": [
      "Quantizing layer input.11 of type innerProduct\n"
     ]
    },
    {
     "name": "stderr",
     "output_type": "stream",
     "text": [
      "/Users/yaof/anaconda3/envs/CoreML/lib/python3.10/site-packages/coremltools/models/neural_network/quantization_utils.py:390: ConvergenceWarning: Number of distinct clusters (1) found smaller than n_clusters (256). Possibly due to duplicate points in X.\n",
      "  ).fit(wf)\n"
     ]
    },
    {
     "name": "stdout",
     "output_type": "stream",
     "text": [
      "Quantizing layer input.13 of type innerProduct\n"
     ]
    },
    {
     "name": "stderr",
     "output_type": "stream",
     "text": [
      "/Users/yaof/anaconda3/envs/CoreML/lib/python3.10/site-packages/coremltools/models/neural_network/quantization_utils.py:390: ConvergenceWarning: Number of distinct clusters (1) found smaller than n_clusters (256). Possibly due to duplicate points in X.\n",
      "  ).fit(wf)\n"
     ]
    },
    {
     "name": "stdout",
     "output_type": "stream",
     "text": [
      "Quantizing layer input.15 of type innerProduct\n"
     ]
    },
    {
     "name": "stderr",
     "output_type": "stream",
     "text": [
      "/Users/yaof/anaconda3/envs/CoreML/lib/python3.10/site-packages/coremltools/models/neural_network/quantization_utils.py:390: ConvergenceWarning: Number of distinct clusters (1) found smaller than n_clusters (256). Possibly due to duplicate points in X.\n",
      "  ).fit(wf)\n"
     ]
    },
    {
     "name": "stdout",
     "output_type": "stream",
     "text": [
      "Quantizing layer input.17 of type innerProduct\n"
     ]
    },
    {
     "name": "stderr",
     "output_type": "stream",
     "text": [
      "/Users/yaof/anaconda3/envs/CoreML/lib/python3.10/site-packages/coremltools/models/neural_network/quantization_utils.py:390: ConvergenceWarning: Number of distinct clusters (1) found smaller than n_clusters (256). Possibly due to duplicate points in X.\n",
      "  ).fit(wf)\n"
     ]
    },
    {
     "name": "stdout",
     "output_type": "stream",
     "text": [
      "Quantizing layer input.19 of type innerProduct\n"
     ]
    },
    {
     "name": "stderr",
     "output_type": "stream",
     "text": [
      "/Users/yaof/anaconda3/envs/CoreML/lib/python3.10/site-packages/coremltools/models/neural_network/quantization_utils.py:390: ConvergenceWarning: Number of distinct clusters (1) found smaller than n_clusters (256). Possibly due to duplicate points in X.\n",
      "  ).fit(wf)\n"
     ]
    },
    {
     "name": "stdout",
     "output_type": "stream",
     "text": [
      "Quantizing layer input.21 of type innerProduct\n"
     ]
    },
    {
     "name": "stderr",
     "output_type": "stream",
     "text": [
      "/Users/yaof/anaconda3/envs/CoreML/lib/python3.10/site-packages/coremltools/models/neural_network/quantization_utils.py:390: ConvergenceWarning: Number of distinct clusters (1) found smaller than n_clusters (256). Possibly due to duplicate points in X.\n",
      "  ).fit(wf)\n"
     ]
    },
    {
     "name": "stdout",
     "output_type": "stream",
     "text": [
      "Quantizing layer input.23 of type innerProduct\n"
     ]
    },
    {
     "name": "stderr",
     "output_type": "stream",
     "text": [
      "/Users/yaof/anaconda3/envs/CoreML/lib/python3.10/site-packages/coremltools/models/neural_network/quantization_utils.py:390: ConvergenceWarning: Number of distinct clusters (1) found smaller than n_clusters (256). Possibly due to duplicate points in X.\n",
      "  ).fit(wf)\n"
     ]
    },
    {
     "name": "stdout",
     "output_type": "stream",
     "text": [
      "Quantizing layer input.25 of type innerProduct\n"
     ]
    },
    {
     "name": "stderr",
     "output_type": "stream",
     "text": [
      "/Users/yaof/anaconda3/envs/CoreML/lib/python3.10/site-packages/coremltools/models/neural_network/quantization_utils.py:390: ConvergenceWarning: Number of distinct clusters (1) found smaller than n_clusters (256). Possibly due to duplicate points in X.\n",
      "  ).fit(wf)\n"
     ]
    },
    {
     "name": "stdout",
     "output_type": "stream",
     "text": [
      "Quantizing layer input.27 of type innerProduct\n"
     ]
    },
    {
     "name": "stderr",
     "output_type": "stream",
     "text": [
      "/Users/yaof/anaconda3/envs/CoreML/lib/python3.10/site-packages/coremltools/models/neural_network/quantization_utils.py:390: ConvergenceWarning: Number of distinct clusters (1) found smaller than n_clusters (256). Possibly due to duplicate points in X.\n",
      "  ).fit(wf)\n"
     ]
    },
    {
     "name": "stdout",
     "output_type": "stream",
     "text": [
      "Quantizing layer input.29 of type innerProduct\n"
     ]
    },
    {
     "name": "stderr",
     "output_type": "stream",
     "text": [
      "/Users/yaof/anaconda3/envs/CoreML/lib/python3.10/site-packages/coremltools/models/neural_network/quantization_utils.py:390: ConvergenceWarning: Number of distinct clusters (1) found smaller than n_clusters (256). Possibly due to duplicate points in X.\n",
      "  ).fit(wf)\n"
     ]
    },
    {
     "name": "stdout",
     "output_type": "stream",
     "text": [
      "Quantizing layer input.31 of type innerProduct\n"
     ]
    },
    {
     "name": "stderr",
     "output_type": "stream",
     "text": [
      "/Users/yaof/anaconda3/envs/CoreML/lib/python3.10/site-packages/coremltools/models/neural_network/quantization_utils.py:390: ConvergenceWarning: Number of distinct clusters (1) found smaller than n_clusters (256). Possibly due to duplicate points in X.\n",
      "  ).fit(wf)\n"
     ]
    },
    {
     "name": "stdout",
     "output_type": "stream",
     "text": [
      "Quantizing layer input.33 of type innerProduct\n"
     ]
    },
    {
     "name": "stderr",
     "output_type": "stream",
     "text": [
      "/Users/yaof/anaconda3/envs/CoreML/lib/python3.10/site-packages/coremltools/models/neural_network/quantization_utils.py:390: ConvergenceWarning: Number of distinct clusters (1) found smaller than n_clusters (256). Possibly due to duplicate points in X.\n",
      "  ).fit(wf)\n"
     ]
    },
    {
     "name": "stdout",
     "output_type": "stream",
     "text": [
      "Quantizing layer input.35 of type innerProduct\n"
     ]
    },
    {
     "name": "stderr",
     "output_type": "stream",
     "text": [
      "/Users/yaof/anaconda3/envs/CoreML/lib/python3.10/site-packages/coremltools/models/neural_network/quantization_utils.py:390: ConvergenceWarning: Number of distinct clusters (1) found smaller than n_clusters (256). Possibly due to duplicate points in X.\n",
      "  ).fit(wf)\n"
     ]
    },
    {
     "name": "stdout",
     "output_type": "stream",
     "text": [
      "Quantizing layer input.37 of type innerProduct\n"
     ]
    },
    {
     "name": "stderr",
     "output_type": "stream",
     "text": [
      "/Users/yaof/anaconda3/envs/CoreML/lib/python3.10/site-packages/coremltools/models/neural_network/quantization_utils.py:390: ConvergenceWarning: Number of distinct clusters (1) found smaller than n_clusters (256). Possibly due to duplicate points in X.\n",
      "  ).fit(wf)\n"
     ]
    },
    {
     "name": "stdout",
     "output_type": "stream",
     "text": [
      "Quantizing layer input.39 of type innerProduct\n"
     ]
    },
    {
     "name": "stderr",
     "output_type": "stream",
     "text": [
      "/Users/yaof/anaconda3/envs/CoreML/lib/python3.10/site-packages/coremltools/models/neural_network/quantization_utils.py:390: ConvergenceWarning: Number of distinct clusters (1) found smaller than n_clusters (256). Possibly due to duplicate points in X.\n",
      "  ).fit(wf)\n"
     ]
    },
    {
     "name": "stdout",
     "output_type": "stream",
     "text": [
      "Quantizing layer input.41 of type innerProduct\n"
     ]
    },
    {
     "name": "stderr",
     "output_type": "stream",
     "text": [
      "/Users/yaof/anaconda3/envs/CoreML/lib/python3.10/site-packages/coremltools/models/neural_network/quantization_utils.py:390: ConvergenceWarning: Number of distinct clusters (1) found smaller than n_clusters (256). Possibly due to duplicate points in X.\n",
      "  ).fit(wf)\n"
     ]
    },
    {
     "name": "stdout",
     "output_type": "stream",
     "text": [
      "Quantizing layer input.43 of type innerProduct\n"
     ]
    },
    {
     "name": "stderr",
     "output_type": "stream",
     "text": [
      "/Users/yaof/anaconda3/envs/CoreML/lib/python3.10/site-packages/coremltools/models/neural_network/quantization_utils.py:390: ConvergenceWarning: Number of distinct clusters (1) found smaller than n_clusters (256). Possibly due to duplicate points in X.\n",
      "  ).fit(wf)\n"
     ]
    },
    {
     "name": "stdout",
     "output_type": "stream",
     "text": [
      "Quantizing layer input.45 of type innerProduct\n"
     ]
    },
    {
     "name": "stderr",
     "output_type": "stream",
     "text": [
      "/Users/yaof/anaconda3/envs/CoreML/lib/python3.10/site-packages/coremltools/models/neural_network/quantization_utils.py:390: ConvergenceWarning: Number of distinct clusters (1) found smaller than n_clusters (256). Possibly due to duplicate points in X.\n",
      "  ).fit(wf)\n"
     ]
    },
    {
     "name": "stdout",
     "output_type": "stream",
     "text": [
      "Quantizing layer input of type innerProduct\n"
     ]
    },
    {
     "name": "stderr",
     "output_type": "stream",
     "text": [
      "/Users/yaof/anaconda3/envs/CoreML/lib/python3.10/site-packages/coremltools/models/neural_network/quantization_utils.py:390: ConvergenceWarning: Number of distinct clusters (1) found smaller than n_clusters (256). Possibly due to duplicate points in X.\n",
      "  ).fit(wf)\n"
     ]
    },
    {
     "name": "stdout",
     "output_type": "stream",
     "text": [
      "Quantizing layer 97 of type innerProduct\n"
     ]
    },
    {
     "name": "stderr",
     "output_type": "stream",
     "text": [
      "/Users/yaof/anaconda3/envs/CoreML/lib/python3.10/site-packages/coremltools/models/neural_network/quantization_utils.py:390: ConvergenceWarning: Number of distinct clusters (1) found smaller than n_clusters (256). Possibly due to duplicate points in X.\n",
      "  ).fit(wf)\n",
      "Converting PyTorch Frontend ==> MIL Ops:  98%|▉| 63/64 [00:00<00:00, 1639.38 ops\n",
      "Running MIL frontend_pytorch pipeline: 100%|█| 5/5 [00:00<00:00, 7463.17 passes/\n",
      "Running MIL default pipeline:   0%|                 | 0/56 [00:00<?, ? passes/s]/Users/yaof/anaconda3/envs/CoreML/lib/python3.10/site-packages/coremltools/converters/mil/mil/passes/defs/preprocess.py:262: UserWarning: Output, '129', of the source model, has been renamed to 'var_129' in the Core ML model.\n",
      "  warnings.warn(msg.format(var.name, new_name))\n",
      "Running MIL default pipeline: 100%|███████| 56/56 [00:00<00:00, 542.57 passes/s]\n",
      "Running MIL backend_neuralnetwork pipeline: 100%|█| 8/8 [00:00<00:00, 9292.28 pa\n",
      "Translating MIL ==> NeuralNetwork Ops: 100%|██| 96/96 [00:17<00:00,  5.56 ops/s]\n"
     ]
    },
    {
     "name": "stdout",
     "output_type": "stream",
     "text": [
      "Quantizing using linear quantization\n",
      "Quantizing layer input.3 of type innerProduct\n",
      "Quantizing layer input.5 of type innerProduct\n",
      "Quantizing layer input.7 of type innerProduct\n",
      "Quantizing layer input.9 of type innerProduct\n",
      "Quantizing layer input.11 of type innerProduct\n",
      "Quantizing layer input.13 of type innerProduct\n",
      "Quantizing layer input.15 of type innerProduct\n",
      "Quantizing layer input.17 of type innerProduct\n",
      "Quantizing layer input.19 of type innerProduct\n",
      "Quantizing layer input.21 of type innerProduct\n",
      "Quantizing layer input.23 of type innerProduct\n",
      "Quantizing layer input.25 of type innerProduct\n",
      "Quantizing layer input.27 of type innerProduct\n",
      "Quantizing layer input.29 of type innerProduct\n",
      "Quantizing layer input.31 of type innerProduct\n",
      "Quantizing layer input.33 of type innerProduct\n",
      "Quantizing layer input.35 of type innerProduct\n",
      "Quantizing layer input.37 of type innerProduct\n",
      "Quantizing layer input.39 of type innerProduct\n",
      "Quantizing layer input.41 of type innerProduct\n",
      "Quantizing layer input.43 of type innerProduct\n",
      "Quantizing layer input.45 of type innerProduct\n",
      "Quantizing layer input.47 of type innerProduct\n",
      "Quantizing layer input.49 of type innerProduct\n",
      "Quantizing layer input.51 of type innerProduct\n",
      "Quantizing layer input.53 of type innerProduct\n",
      "Quantizing layer input.55 of type innerProduct\n",
      "Quantizing layer input.57 of type innerProduct\n",
      "Quantizing layer input.59 of type innerProduct\n",
      "Quantizing layer input.61 of type innerProduct\n",
      "Quantizing layer input of type innerProduct\n",
      "Quantizing layer 129 of type innerProduct\n",
      "Quantizing using kmeans quantization\n",
      "Optimizing Neural Network before Quantization:\n",
      "Finished optimizing network. Quantizing neural network..\n",
      "Quantizing layer input.3 of type innerProduct\n"
     ]
    },
    {
     "name": "stderr",
     "output_type": "stream",
     "text": [
      "/Users/yaof/anaconda3/envs/CoreML/lib/python3.10/site-packages/coremltools/models/neural_network/quantization_utils.py:390: ConvergenceWarning: Number of distinct clusters (1) found smaller than n_clusters (256). Possibly due to duplicate points in X.\n",
      "  ).fit(wf)\n"
     ]
    },
    {
     "name": "stdout",
     "output_type": "stream",
     "text": [
      "Quantizing layer input.5 of type innerProduct\n"
     ]
    },
    {
     "name": "stderr",
     "output_type": "stream",
     "text": [
      "/Users/yaof/anaconda3/envs/CoreML/lib/python3.10/site-packages/coremltools/models/neural_network/quantization_utils.py:390: ConvergenceWarning: Number of distinct clusters (1) found smaller than n_clusters (256). Possibly due to duplicate points in X.\n",
      "  ).fit(wf)\n"
     ]
    },
    {
     "name": "stdout",
     "output_type": "stream",
     "text": [
      "Quantizing layer input.7 of type innerProduct\n"
     ]
    },
    {
     "name": "stderr",
     "output_type": "stream",
     "text": [
      "/Users/yaof/anaconda3/envs/CoreML/lib/python3.10/site-packages/coremltools/models/neural_network/quantization_utils.py:390: ConvergenceWarning: Number of distinct clusters (1) found smaller than n_clusters (256). Possibly due to duplicate points in X.\n",
      "  ).fit(wf)\n"
     ]
    },
    {
     "name": "stdout",
     "output_type": "stream",
     "text": [
      "Quantizing layer input.9 of type innerProduct\n"
     ]
    },
    {
     "name": "stderr",
     "output_type": "stream",
     "text": [
      "/Users/yaof/anaconda3/envs/CoreML/lib/python3.10/site-packages/coremltools/models/neural_network/quantization_utils.py:390: ConvergenceWarning: Number of distinct clusters (1) found smaller than n_clusters (256). Possibly due to duplicate points in X.\n",
      "  ).fit(wf)\n"
     ]
    },
    {
     "name": "stdout",
     "output_type": "stream",
     "text": [
      "Quantizing layer input.11 of type innerProduct\n"
     ]
    },
    {
     "name": "stderr",
     "output_type": "stream",
     "text": [
      "/Users/yaof/anaconda3/envs/CoreML/lib/python3.10/site-packages/coremltools/models/neural_network/quantization_utils.py:390: ConvergenceWarning: Number of distinct clusters (1) found smaller than n_clusters (256). Possibly due to duplicate points in X.\n",
      "  ).fit(wf)\n"
     ]
    },
    {
     "name": "stdout",
     "output_type": "stream",
     "text": [
      "Quantizing layer input.13 of type innerProduct\n"
     ]
    },
    {
     "name": "stderr",
     "output_type": "stream",
     "text": [
      "/Users/yaof/anaconda3/envs/CoreML/lib/python3.10/site-packages/coremltools/models/neural_network/quantization_utils.py:390: ConvergenceWarning: Number of distinct clusters (1) found smaller than n_clusters (256). Possibly due to duplicate points in X.\n",
      "  ).fit(wf)\n"
     ]
    },
    {
     "name": "stdout",
     "output_type": "stream",
     "text": [
      "Quantizing layer input.15 of type innerProduct\n"
     ]
    },
    {
     "name": "stderr",
     "output_type": "stream",
     "text": [
      "/Users/yaof/anaconda3/envs/CoreML/lib/python3.10/site-packages/coremltools/models/neural_network/quantization_utils.py:390: ConvergenceWarning: Number of distinct clusters (1) found smaller than n_clusters (256). Possibly due to duplicate points in X.\n",
      "  ).fit(wf)\n"
     ]
    },
    {
     "name": "stdout",
     "output_type": "stream",
     "text": [
      "Quantizing layer input.17 of type innerProduct\n"
     ]
    },
    {
     "name": "stderr",
     "output_type": "stream",
     "text": [
      "/Users/yaof/anaconda3/envs/CoreML/lib/python3.10/site-packages/coremltools/models/neural_network/quantization_utils.py:390: ConvergenceWarning: Number of distinct clusters (1) found smaller than n_clusters (256). Possibly due to duplicate points in X.\n",
      "  ).fit(wf)\n"
     ]
    },
    {
     "name": "stdout",
     "output_type": "stream",
     "text": [
      "Quantizing layer input.19 of type innerProduct\n"
     ]
    },
    {
     "name": "stderr",
     "output_type": "stream",
     "text": [
      "/Users/yaof/anaconda3/envs/CoreML/lib/python3.10/site-packages/coremltools/models/neural_network/quantization_utils.py:390: ConvergenceWarning: Number of distinct clusters (1) found smaller than n_clusters (256). Possibly due to duplicate points in X.\n",
      "  ).fit(wf)\n"
     ]
    },
    {
     "name": "stdout",
     "output_type": "stream",
     "text": [
      "Quantizing layer input.21 of type innerProduct\n"
     ]
    },
    {
     "name": "stderr",
     "output_type": "stream",
     "text": [
      "/Users/yaof/anaconda3/envs/CoreML/lib/python3.10/site-packages/coremltools/models/neural_network/quantization_utils.py:390: ConvergenceWarning: Number of distinct clusters (1) found smaller than n_clusters (256). Possibly due to duplicate points in X.\n",
      "  ).fit(wf)\n"
     ]
    },
    {
     "name": "stdout",
     "output_type": "stream",
     "text": [
      "Quantizing layer input.23 of type innerProduct\n"
     ]
    },
    {
     "name": "stderr",
     "output_type": "stream",
     "text": [
      "/Users/yaof/anaconda3/envs/CoreML/lib/python3.10/site-packages/coremltools/models/neural_network/quantization_utils.py:390: ConvergenceWarning: Number of distinct clusters (1) found smaller than n_clusters (256). Possibly due to duplicate points in X.\n",
      "  ).fit(wf)\n"
     ]
    },
    {
     "name": "stdout",
     "output_type": "stream",
     "text": [
      "Quantizing layer input.25 of type innerProduct\n"
     ]
    },
    {
     "name": "stderr",
     "output_type": "stream",
     "text": [
      "/Users/yaof/anaconda3/envs/CoreML/lib/python3.10/site-packages/coremltools/models/neural_network/quantization_utils.py:390: ConvergenceWarning: Number of distinct clusters (1) found smaller than n_clusters (256). Possibly due to duplicate points in X.\n",
      "  ).fit(wf)\n"
     ]
    },
    {
     "name": "stdout",
     "output_type": "stream",
     "text": [
      "Quantizing layer input.27 of type innerProduct\n"
     ]
    },
    {
     "name": "stderr",
     "output_type": "stream",
     "text": [
      "/Users/yaof/anaconda3/envs/CoreML/lib/python3.10/site-packages/coremltools/models/neural_network/quantization_utils.py:390: ConvergenceWarning: Number of distinct clusters (1) found smaller than n_clusters (256). Possibly due to duplicate points in X.\n",
      "  ).fit(wf)\n"
     ]
    },
    {
     "name": "stdout",
     "output_type": "stream",
     "text": [
      "Quantizing layer input.29 of type innerProduct\n"
     ]
    },
    {
     "name": "stderr",
     "output_type": "stream",
     "text": [
      "/Users/yaof/anaconda3/envs/CoreML/lib/python3.10/site-packages/coremltools/models/neural_network/quantization_utils.py:390: ConvergenceWarning: Number of distinct clusters (1) found smaller than n_clusters (256). Possibly due to duplicate points in X.\n",
      "  ).fit(wf)\n"
     ]
    },
    {
     "name": "stdout",
     "output_type": "stream",
     "text": [
      "Quantizing layer input.31 of type innerProduct\n"
     ]
    },
    {
     "name": "stderr",
     "output_type": "stream",
     "text": [
      "/Users/yaof/anaconda3/envs/CoreML/lib/python3.10/site-packages/coremltools/models/neural_network/quantization_utils.py:390: ConvergenceWarning: Number of distinct clusters (1) found smaller than n_clusters (256). Possibly due to duplicate points in X.\n",
      "  ).fit(wf)\n"
     ]
    },
    {
     "name": "stdout",
     "output_type": "stream",
     "text": [
      "Quantizing layer input.33 of type innerProduct\n"
     ]
    },
    {
     "name": "stderr",
     "output_type": "stream",
     "text": [
      "/Users/yaof/anaconda3/envs/CoreML/lib/python3.10/site-packages/coremltools/models/neural_network/quantization_utils.py:390: ConvergenceWarning: Number of distinct clusters (1) found smaller than n_clusters (256). Possibly due to duplicate points in X.\n",
      "  ).fit(wf)\n"
     ]
    },
    {
     "name": "stdout",
     "output_type": "stream",
     "text": [
      "Quantizing layer input.35 of type innerProduct\n"
     ]
    },
    {
     "name": "stderr",
     "output_type": "stream",
     "text": [
      "/Users/yaof/anaconda3/envs/CoreML/lib/python3.10/site-packages/coremltools/models/neural_network/quantization_utils.py:390: ConvergenceWarning: Number of distinct clusters (1) found smaller than n_clusters (256). Possibly due to duplicate points in X.\n",
      "  ).fit(wf)\n"
     ]
    },
    {
     "name": "stdout",
     "output_type": "stream",
     "text": [
      "Quantizing layer input.37 of type innerProduct\n"
     ]
    },
    {
     "name": "stderr",
     "output_type": "stream",
     "text": [
      "/Users/yaof/anaconda3/envs/CoreML/lib/python3.10/site-packages/coremltools/models/neural_network/quantization_utils.py:390: ConvergenceWarning: Number of distinct clusters (1) found smaller than n_clusters (256). Possibly due to duplicate points in X.\n",
      "  ).fit(wf)\n"
     ]
    },
    {
     "name": "stdout",
     "output_type": "stream",
     "text": [
      "Quantizing layer input.39 of type innerProduct\n"
     ]
    },
    {
     "name": "stderr",
     "output_type": "stream",
     "text": [
      "/Users/yaof/anaconda3/envs/CoreML/lib/python3.10/site-packages/coremltools/models/neural_network/quantization_utils.py:390: ConvergenceWarning: Number of distinct clusters (1) found smaller than n_clusters (256). Possibly due to duplicate points in X.\n",
      "  ).fit(wf)\n"
     ]
    },
    {
     "name": "stdout",
     "output_type": "stream",
     "text": [
      "Quantizing layer input.41 of type innerProduct\n"
     ]
    },
    {
     "name": "stderr",
     "output_type": "stream",
     "text": [
      "/Users/yaof/anaconda3/envs/CoreML/lib/python3.10/site-packages/coremltools/models/neural_network/quantization_utils.py:390: ConvergenceWarning: Number of distinct clusters (1) found smaller than n_clusters (256). Possibly due to duplicate points in X.\n",
      "  ).fit(wf)\n"
     ]
    },
    {
     "name": "stdout",
     "output_type": "stream",
     "text": [
      "Quantizing layer input.43 of type innerProduct\n"
     ]
    },
    {
     "name": "stderr",
     "output_type": "stream",
     "text": [
      "/Users/yaof/anaconda3/envs/CoreML/lib/python3.10/site-packages/coremltools/models/neural_network/quantization_utils.py:390: ConvergenceWarning: Number of distinct clusters (1) found smaller than n_clusters (256). Possibly due to duplicate points in X.\n",
      "  ).fit(wf)\n"
     ]
    },
    {
     "name": "stdout",
     "output_type": "stream",
     "text": [
      "Quantizing layer input.45 of type innerProduct\n"
     ]
    },
    {
     "name": "stderr",
     "output_type": "stream",
     "text": [
      "/Users/yaof/anaconda3/envs/CoreML/lib/python3.10/site-packages/coremltools/models/neural_network/quantization_utils.py:390: ConvergenceWarning: Number of distinct clusters (1) found smaller than n_clusters (256). Possibly due to duplicate points in X.\n",
      "  ).fit(wf)\n"
     ]
    },
    {
     "name": "stdout",
     "output_type": "stream",
     "text": [
      "Quantizing layer input.47 of type innerProduct\n"
     ]
    },
    {
     "name": "stderr",
     "output_type": "stream",
     "text": [
      "/Users/yaof/anaconda3/envs/CoreML/lib/python3.10/site-packages/coremltools/models/neural_network/quantization_utils.py:390: ConvergenceWarning: Number of distinct clusters (1) found smaller than n_clusters (256). Possibly due to duplicate points in X.\n",
      "  ).fit(wf)\n"
     ]
    },
    {
     "name": "stdout",
     "output_type": "stream",
     "text": [
      "Quantizing layer input.49 of type innerProduct\n"
     ]
    },
    {
     "name": "stderr",
     "output_type": "stream",
     "text": [
      "/Users/yaof/anaconda3/envs/CoreML/lib/python3.10/site-packages/coremltools/models/neural_network/quantization_utils.py:390: ConvergenceWarning: Number of distinct clusters (1) found smaller than n_clusters (256). Possibly due to duplicate points in X.\n",
      "  ).fit(wf)\n"
     ]
    },
    {
     "name": "stdout",
     "output_type": "stream",
     "text": [
      "Quantizing layer input.51 of type innerProduct\n"
     ]
    },
    {
     "name": "stderr",
     "output_type": "stream",
     "text": [
      "/Users/yaof/anaconda3/envs/CoreML/lib/python3.10/site-packages/coremltools/models/neural_network/quantization_utils.py:390: ConvergenceWarning: Number of distinct clusters (1) found smaller than n_clusters (256). Possibly due to duplicate points in X.\n",
      "  ).fit(wf)\n"
     ]
    },
    {
     "name": "stdout",
     "output_type": "stream",
     "text": [
      "Quantizing layer input.53 of type innerProduct\n"
     ]
    },
    {
     "name": "stderr",
     "output_type": "stream",
     "text": [
      "/Users/yaof/anaconda3/envs/CoreML/lib/python3.10/site-packages/coremltools/models/neural_network/quantization_utils.py:390: ConvergenceWarning: Number of distinct clusters (1) found smaller than n_clusters (256). Possibly due to duplicate points in X.\n",
      "  ).fit(wf)\n"
     ]
    },
    {
     "name": "stdout",
     "output_type": "stream",
     "text": [
      "Quantizing layer input.55 of type innerProduct\n"
     ]
    },
    {
     "name": "stderr",
     "output_type": "stream",
     "text": [
      "/Users/yaof/anaconda3/envs/CoreML/lib/python3.10/site-packages/coremltools/models/neural_network/quantization_utils.py:390: ConvergenceWarning: Number of distinct clusters (1) found smaller than n_clusters (256). Possibly due to duplicate points in X.\n",
      "  ).fit(wf)\n"
     ]
    },
    {
     "name": "stdout",
     "output_type": "stream",
     "text": [
      "Quantizing layer input.57 of type innerProduct\n"
     ]
    },
    {
     "name": "stderr",
     "output_type": "stream",
     "text": [
      "/Users/yaof/anaconda3/envs/CoreML/lib/python3.10/site-packages/coremltools/models/neural_network/quantization_utils.py:390: ConvergenceWarning: Number of distinct clusters (1) found smaller than n_clusters (256). Possibly due to duplicate points in X.\n",
      "  ).fit(wf)\n"
     ]
    },
    {
     "name": "stdout",
     "output_type": "stream",
     "text": [
      "Quantizing layer input.59 of type innerProduct\n"
     ]
    },
    {
     "name": "stderr",
     "output_type": "stream",
     "text": [
      "/Users/yaof/anaconda3/envs/CoreML/lib/python3.10/site-packages/coremltools/models/neural_network/quantization_utils.py:390: ConvergenceWarning: Number of distinct clusters (1) found smaller than n_clusters (256). Possibly due to duplicate points in X.\n",
      "  ).fit(wf)\n"
     ]
    },
    {
     "name": "stdout",
     "output_type": "stream",
     "text": [
      "Quantizing layer input.61 of type innerProduct\n"
     ]
    },
    {
     "name": "stderr",
     "output_type": "stream",
     "text": [
      "/Users/yaof/anaconda3/envs/CoreML/lib/python3.10/site-packages/coremltools/models/neural_network/quantization_utils.py:390: ConvergenceWarning: Number of distinct clusters (1) found smaller than n_clusters (256). Possibly due to duplicate points in X.\n",
      "  ).fit(wf)\n"
     ]
    },
    {
     "name": "stdout",
     "output_type": "stream",
     "text": [
      "Quantizing layer input of type innerProduct\n"
     ]
    },
    {
     "name": "stderr",
     "output_type": "stream",
     "text": [
      "/Users/yaof/anaconda3/envs/CoreML/lib/python3.10/site-packages/coremltools/models/neural_network/quantization_utils.py:390: ConvergenceWarning: Number of distinct clusters (1) found smaller than n_clusters (256). Possibly due to duplicate points in X.\n",
      "  ).fit(wf)\n"
     ]
    },
    {
     "name": "stdout",
     "output_type": "stream",
     "text": [
      "Quantizing layer 129 of type innerProduct\n"
     ]
    },
    {
     "name": "stderr",
     "output_type": "stream",
     "text": [
      "/Users/yaof/anaconda3/envs/CoreML/lib/python3.10/site-packages/coremltools/models/neural_network/quantization_utils.py:390: ConvergenceWarning: Number of distinct clusters (1) found smaller than n_clusters (256). Possibly due to duplicate points in X.\n",
      "  ).fit(wf)\n",
      "Converting PyTorch Frontend ==> MIL Ops:  94%|▉| 15/16 [00:00<00:00, 797.58 ops/\n",
      "Running MIL frontend_pytorch pipeline: 100%|█| 5/5 [00:00<00:00, 9562.94 passes/\n",
      "Running MIL default pipeline:   0%|                 | 0/56 [00:00<?, ? passes/s]/Users/yaof/anaconda3/envs/CoreML/lib/python3.10/site-packages/coremltools/converters/mil/mil/passes/defs/preprocess.py:262: UserWarning: Output, '33', of the source model, has been renamed to 'var_33' in the Core ML model.\n",
      "  warnings.warn(msg.format(var.name, new_name))\n",
      "Running MIL default pipeline: 100%|███████| 56/56 [00:00<00:00, 812.83 passes/s]\n",
      "Running MIL backend_neuralnetwork pipeline: 100%|█| 8/8 [00:00<00:00, 29511.37 p\n",
      "Translating MIL ==> NeuralNetwork Ops: 100%|██| 24/24 [00:17<00:00,  1.40 ops/s]\n"
     ]
    },
    {
     "name": "stdout",
     "output_type": "stream",
     "text": [
      "Quantizing using linear quantization\n",
      "Quantizing layer input.3 of type innerProduct\n",
      "Quantizing layer input.5 of type innerProduct\n",
      "Quantizing layer input.7 of type innerProduct\n",
      "Quantizing layer input.9 of type innerProduct\n",
      "Quantizing layer input.11 of type innerProduct\n",
      "Quantizing layer input.13 of type innerProduct\n",
      "Quantizing layer input of type innerProduct\n",
      "Quantizing layer 33 of type innerProduct\n",
      "Quantizing using kmeans quantization\n",
      "Optimizing Neural Network before Quantization:\n",
      "Finished optimizing network. Quantizing neural network..\n",
      "Quantizing layer input.3 of type innerProduct\n"
     ]
    },
    {
     "name": "stderr",
     "output_type": "stream",
     "text": [
      "/Users/yaof/anaconda3/envs/CoreML/lib/python3.10/site-packages/coremltools/models/neural_network/quantization_utils.py:390: ConvergenceWarning: Number of distinct clusters (1) found smaller than n_clusters (256). Possibly due to duplicate points in X.\n",
      "  ).fit(wf)\n"
     ]
    },
    {
     "name": "stdout",
     "output_type": "stream",
     "text": [
      "Quantizing layer input.5 of type innerProduct\n"
     ]
    }
   ],
   "source": [
    "for i in range(7):\n",
    "    M = 256*2**(i)\n",
    "    N = M\n",
    "    for l in range(1,5):\n",
    "        layers = 8*l\n",
    "        try:\n",
    "            generate_mlmodels(M,N,1,layers)\n",
    "        except GenerateModelError:\n",
    "            print(\"Model with dimension \", M, \"x\", N, \" with\", lyaers, \" layers not created\") "
   ]
  },
  {
   "cell_type": "code",
   "execution_count": null,
   "id": "a033acfc-37a5-453a-8ac7-6f3611e91868",
   "metadata": {},
   "outputs": [],
   "source": []
  }
 ],
 "metadata": {
  "kernelspec": {
   "display_name": "Python 3 (ipykernel)",
   "language": "python",
   "name": "python3"
  },
  "language_info": {
   "codemirror_mode": {
    "name": "ipython",
    "version": 3
   },
   "file_extension": ".py",
   "mimetype": "text/x-python",
   "name": "python",
   "nbconvert_exporter": "python",
   "pygments_lexer": "ipython3",
   "version": "3.10.12"
  }
 },
 "nbformat": 4,
 "nbformat_minor": 5
}
